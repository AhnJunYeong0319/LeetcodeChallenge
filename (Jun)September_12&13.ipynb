{
  "nbformat": 4,
  "nbformat_minor": 0,
  "metadata": {
    "colab": {
      "provenance": [],
      "collapsed_sections": []
    },
    "kernelspec": {
      "name": "python3",
      "display_name": "Python 3"
    },
    "language_info": {
      "name": "python"
    }
  },
  "cells": [
    {
      "cell_type": "markdown",
      "source": [
        "# September"
      ],
      "metadata": {
        "id": "D7sZXiCD-D_C"
      }
    },
    {
      "cell_type": "markdown",
      "source": [
        "## 12th"
      ],
      "metadata": {
        "id": "znSLT4US-G1U"
      }
    },
    {
      "cell_type": "markdown",
      "source": [
        "### (M) 1630. Arithmetic Subarrays"
      ],
      "metadata": {
        "id": "EjjEp7eNXqii"
      }
    },
    {
      "cell_type": "markdown",
      "source": [
        "When using memoization via lru_cache : 5 / 60 -> 73 / 60"
      ],
      "metadata": {
        "id": "-3iyWS-a1gxs"
      }
    },
    {
      "cell_type": "code",
      "source": [
        "from typing import List\n",
        "from functools import lru_cache\n",
        "\n",
        "#nums = [-12,-9,-3,-12,-6,15,20,-25,-20,-15,-10]\n",
        "#l = [0,1,6,4,8,7]\n",
        "#r = [4,4,9,7,9,10]\n",
        "\n",
        "nums = [-3,-6,-8,-4,-2,-8,-6,0,0,0,0]\n",
        "l = [5,4,3,2,4,7,6,1,7]\n",
        "r = [6,5,6,3,7,10,7,4,10]\n",
        "\n",
        "class Solution:\n",
        "    def checkArithmeticSubarrays(self, nums: List[int], l: List[int], r: List[int]) -> List[bool]:\n",
        "      \n",
        "      @lru_cache(maxsize=128)\n",
        "      def queryCheck(arr):\n",
        "        return True if len(set((arr[i+1] - arr[i] for i in range(len(arr) - 1)))) == 1 else False\n",
        "        \n",
        "      return [queryCheck(tuple(sorted(nums[l[idx]:r[idx] + 1]))) for idx in range(len(l))]\n",
        "\n",
        "Solution().checkArithmeticSubarrays(nums, l, r)"
      ],
      "metadata": {
        "colab": {
          "base_uri": "https://localhost:8080/"
        },
        "id": "c5dJ0CUFyqFl",
        "outputId": "bbbc4b8c-688e-44ac-b486-843a5d80537f"
      },
      "execution_count": null,
      "outputs": [
        {
          "output_type": "execute_result",
          "data": {
            "text/plain": [
              "[True, True, True, True, False, True, True, True, True]"
            ]
          },
          "metadata": {},
          "execution_count": 20
        }
      ]
    },
    {
      "cell_type": "markdown",
      "source": [
        "Not using sort from [LeetCode discussion](https://leetcode.com/problems/arithmetic-subarrays/discuss/1314773/Python-or-without-sort-or-164ms-or-100-faster)"
      ],
      "metadata": {
        "id": "Wodjf1Fo39ZJ"
      }
    },
    {
      "cell_type": "code",
      "source": [
        "class Solution:\n",
        "    def checkArithmeticSubarrays(self, nums: List[int], l: List[int], r: List[int]) -> List[bool]:\n",
        "        out=[]\n",
        "        for i, j in zip(l, r):\n",
        "            out.append(self.canMakeArithmeticProgression(nums[i:j+1]))\n",
        "        return out\n",
        "        \n",
        "    def canMakeArithmeticProgression(self, arr: List[int]) -> bool:\n",
        "        minArr = min(arr)\n",
        "        maxArr = max(arr)\n",
        "\t\t\n",
        "\t\t# if difference between minArr and maxArr cannot be divided into equal differences, then return false\n",
        "        if (maxArr-minArr)%(len(arr)-1)!=0:\n",
        "            return False\n",
        "\t\t\t\n",
        "\t\t# consecutive difference in arithmetic progression\n",
        "        diff = int((maxArr-minArr)/(len(arr)-1))\n",
        "        if diff == 0:\n",
        "            if arr != [arr[0]]*len(arr):\n",
        "                return False\n",
        "            return True\n",
        "\t\t\n",
        "\t\t# array to check all numbers in A.P. are present in input array.\n",
        "\t\t# A.P.[minArr, minArr+d, minArr+2d, . . . . . . . maxArr]\n",
        "        check = [1]*len(arr)\n",
        "        for num in arr:\n",
        "            if (num-minArr)%diff != 0:\n",
        "                return False\n",
        "            check[(num-minArr)//diff]=0\n",
        "\t\t\n",
        "\t\t# if 1 is still in check array it means at least one number from A.P. is missing from input array.\n",
        "        if 1 in check:\n",
        "            return False\n",
        "        return True"
      ],
      "metadata": {
        "colab": {
          "base_uri": "https://localhost:8080/"
        },
        "id": "ItYz3c0lz4F2",
        "outputId": "23a345ff-c00e-4bbe-8c63-cffd83536a18"
      },
      "execution_count": null,
      "outputs": [
        {
          "output_type": "execute_result",
          "data": {
            "text/plain": [
              "(1, 3, 5, 7, 9)"
            ]
          },
          "metadata": {},
          "execution_count": 9
        }
      ]
    },
    {
      "cell_type": "markdown",
      "source": [
        "## 13th"
      ],
      "metadata": {
        "id": "kOW-CPvL4-vy"
      }
    },
    {
      "cell_type": "markdown",
      "source": [
        "### (M) 1524. Number of Sub-arrays With Odd Sum ★★★"
      ],
      "metadata": {
        "id": "78YSWSMa5BkE"
      }
    },
    {
      "cell_type": "markdown",
      "source": [
        "Baseline : 12ms"
      ],
      "metadata": {
        "id": "hS6bO5YR1Ebm"
      }
    },
    {
      "cell_type": "code",
      "source": [
        "from timeit import Timer\n",
        "arr = [1,2,3,4,5,6,7]\n",
        "def numOfSubarrays(arr: List[int]) -> int:\n",
        "    cnt = 0\n",
        "    \n",
        "    for i in range(len(arr)):\n",
        "      for j in range(i + 1, len(arr) + 1):\n",
        "\n",
        "        if (sum(arr[i:j]) % 2) == 1:\n",
        "          print(arr[i:j])\n",
        "          \n",
        "          cnt += 1\n",
        "\n",
        "    return cnt % (10**9 + 7)\n",
        "\n",
        "numOfSubarrays(arr)\n",
        "#Timer(lambda : numOfSubarrays(arr)).timeit()"
      ],
      "metadata": {
        "id": "IW5UzUzaDgxf",
        "colab": {
          "base_uri": "https://localhost:8080/"
        },
        "outputId": "5c87a671-bf55-47d3-f4b8-54b7a97c8ac2"
      },
      "execution_count": null,
      "outputs": [
        {
          "output_type": "stream",
          "name": "stdout",
          "text": [
            "[1]\n",
            "[1, 2]\n",
            "[1, 2, 3, 4, 5]\n",
            "[1, 2, 3, 4, 5, 6]\n",
            "[2, 3]\n",
            "[2, 3, 4]\n",
            "[2, 3, 4, 5, 6, 7]\n",
            "[3]\n",
            "[3, 4]\n",
            "[3, 4, 5, 6, 7]\n",
            "[4, 5]\n",
            "[4, 5, 6]\n",
            "[5]\n",
            "[5, 6]\n",
            "[6, 7]\n",
            "[7]\n"
          ]
        },
        {
          "output_type": "execute_result",
          "data": {
            "text/plain": [
              "16"
            ]
          },
          "metadata": {},
          "execution_count": 22
        }
      ]
    },
    {
      "cell_type": "markdown",
      "source": [
        "Prefix sum solution from [LeetCode discussion](https://leetcode.com/problems/number-of-sub-arrays-with-odd-sum/discuss/754743/JavaC%2B%2BPython-Prefix-Sum)"
      ],
      "metadata": {
        "id": "yOLfanoUDaRw"
      }
    },
    {
      "cell_type": "code",
      "source": [
        "arr = [1,2,3,4,5,6,7]\n",
        "class Solution:\n",
        "   def numOfSubarrays(self, A):\n",
        "\n",
        "        count = [1, 0]\n",
        "        cur = res = 0\n",
        "\n",
        "        for a in A:\n",
        "\n",
        "            # cur = (cur + (a % 2))%2\n",
        "            cur ^= a & 1 # & (AND), | (OR), ^ (XOR), ~ (Complement), <<, >> (Shift)\n",
        "            res += count[1 - cur]\n",
        "            count[cur] += 1\n",
        "\n",
        "        return res % (10**9 + 7)\n",
        "\n",
        "Solution().numOfSubarrays(arr)"
      ],
      "metadata": {
        "colab": {
          "base_uri": "https://localhost:8080/"
        },
        "id": "yBAuGsPg4pNW",
        "outputId": "2d87bc83-5c11-41a6-96fd-d6ff8355bf0d"
      },
      "execution_count": null,
      "outputs": [
        {
          "output_type": "execute_result",
          "data": {
            "text/plain": [
              "16"
            ]
          },
          "metadata": {},
          "execution_count": 36
        }
      ]
    },
    {
      "cell_type": "markdown",
      "source": [
        "### (M) 1525. Number of Good Ways to Split a String"
      ],
      "metadata": {
        "id": "3aWzRucgDY0L"
      }
    },
    {
      "cell_type": "markdown",
      "source": [
        "Two hashmaps for each s_left and s_right - 14 / 68"
      ],
      "metadata": {
        "id": "dtjg9-PiIIA8"
      }
    },
    {
      "cell_type": "code",
      "source": [
        "from collections import defaultdict\n",
        "from collections import Counter\n",
        "\n",
        "class Solution:\n",
        "    def numSplits(self, s: str) -> int:\n",
        "\n",
        "      \n",
        "      hash_left = defaultdict(int)\n",
        "      hash_right = Counter(s)\n",
        "\n",
        "      cnt = 0\n",
        "\n",
        "      for char in s:\n",
        "        hash_left[char] += 1\n",
        "        hash_right[char] -= 1\n",
        "        if hash_right[char] == 0:\n",
        "          hash_right.pop(char)\n",
        "\n",
        "        if len(hash_left.keys()) == len(hash_right.keys()):\n",
        "          cnt += 1\n",
        "        else:\n",
        "          if cnt != 0:\n",
        "            break\n",
        "          \n",
        "      return cnt"
      ],
      "metadata": {
        "id": "1BoODX8eCO2X"
      },
      "execution_count": null,
      "outputs": []
    },
    {
      "cell_type": "markdown",
      "source": [
        "DP from LeetCode discussion - 50 / 25"
      ],
      "metadata": {
        "id": "vPBth4hGIrwO"
      }
    },
    {
      "cell_type": "code",
      "source": [
        "s = \"aacaba\"\n",
        "\n",
        "class Solution:\n",
        "    def numSplits(self, s: str) -> int:\n",
        "        \n",
        "        n = len(s)\n",
        "        if n <= 1:  return 0\n",
        "        \n",
        "        #forward pass\n",
        "        seen = set()\n",
        "        dp = [0 for _ in range(n-1)]\n",
        "        dp[0] = 1\n",
        "        seen.add(s[0])\n",
        "        \n",
        "        for i in range(1,n-1):\n",
        "            if s[i] in seen:\n",
        "                dp[i] = dp[i-1]\n",
        "            else:\n",
        "                seen.add(s[i])\n",
        "                dp[i] = dp[i-1] + 1\n",
        "                \n",
        "\n",
        "        print(dp)\n",
        "        count = 0\n",
        "        \n",
        "        #backward pass\n",
        "        seen = set()\n",
        "        current = 0\n",
        "        for i in range(n-1, 0, -1):\n",
        "            if s[i] not in seen:\n",
        "                seen.add(s[i])\n",
        "                current += 1\n",
        "            \n",
        "            if current == dp[i-1]:\n",
        "                count += 1\n",
        "                \n",
        "        return count\n",
        "\n",
        "Solution().numSplits(s)"
      ],
      "metadata": {
        "colab": {
          "base_uri": "https://localhost:8080/"
        },
        "id": "h4gm-sHHIr2f",
        "outputId": "7e9c82b8-8fb1-42f0-d850-c07c371ad0fc"
      },
      "execution_count": 51,
      "outputs": [
        {
          "output_type": "stream",
          "name": "stdout",
          "text": [
            "[1, 1, 2, 2, 3]\n"
          ]
        },
        {
          "output_type": "execute_result",
          "data": {
            "text/plain": [
              "2"
            ]
          },
          "metadata": {},
          "execution_count": 51
        }
      ]
    },
    {
      "cell_type": "code",
      "source": [],
      "metadata": {
        "id": "gWsdBZHJJoJh"
      },
      "execution_count": null,
      "outputs": []
    }
  ]
}