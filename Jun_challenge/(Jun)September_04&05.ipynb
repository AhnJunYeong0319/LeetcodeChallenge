{
 "cells": [
  {
   "cell_type": "markdown",
   "metadata": {
    "id": "lhDGV0AtGpp4"
   },
   "source": [
    "# September"
   ]
  },
  {
   "cell_type": "markdown",
   "metadata": {
    "id": "Uz1WCS_yKFwP"
   },
   "source": [
    "## 4th"
   ]
  },
  {
   "cell_type": "markdown",
   "metadata": {},
   "source": [
    "### (M) 967. Numbers With Same Consecutive Differences"
   ]
  },
  {
   "cell_type": "markdown",
   "metadata": {},
   "source": [
    "Simple DFS - 81 / 13"
   ]
  },
  {
   "cell_type": "code",
   "execution_count": 15,
   "metadata": {},
   "outputs": [
    {
     "name": "stdout",
     "output_type": "stream",
     "text": [
      "[181, 292, 707, 818, 929]\n"
     ]
    }
   ],
   "source": [
    "from typing import List\n",
    "\n",
    "n = 3\n",
    "k = 7\n",
    "\n",
    "class Solution:\n",
    "    def numsSameConsecDiff(self, n: int, k: int) -> List[int]:\n",
    "        res = []\n",
    "        def dfs(pre, k, n, combi, cnt):\n",
    "            if cnt == n:\n",
    "                res.append(int(combi))\n",
    "                return\n",
    "\n",
    "            if 0 <= (pre + k) <= 9:\n",
    "                dfs( pre + k, k, n, combi + str(pre + k), cnt + 1)\n",
    "            if 0 <= (pre - k) <= 9:\n",
    "                dfs( pre - k, k, n, combi + str(pre - k), cnt + 1)\n",
    "\n",
    "        for i in range(1, 10):\n",
    "            dfs(i, k, n, str(i), 1)\n",
    "            \n",
    "        return res if k != 0 else list(set(res))\n",
    "\n",
    "print(Solution().numsSameConsecDiff(n, k))"
   ]
  },
  {
   "cell_type": "markdown",
   "metadata": {},
   "source": [
    "## 5th"
   ]
  },
  {
   "cell_type": "markdown",
   "metadata": {},
   "source": [
    "### (M) 40. Combination Sum II"
   ]
  },
  {
   "cell_type": "markdown",
   "metadata": {},
   "source": [
    "Bactracking - 100 / 100"
   ]
  },
  {
   "cell_type": "code",
   "execution_count": 13,
   "metadata": {},
   "outputs": [
    {
     "name": "stdout",
     "output_type": "stream",
     "text": [
      "[]\n"
     ]
    }
   ],
   "source": [
    "from typing import List\n",
    "\n",
    "candidates = [10,1,2,7,6,1,5] # 1, 1, 2, 5, 6, 7, 10\n",
    "target = 8\n",
    "\n",
    "\n",
    "class Solution:\n",
    "    def combinationSum2(self, candidates: List[int], target: int) -> List[List[int]]:\n",
    "        candidates = sorted(candidates)\n",
    "        res = []\n",
    "        \n",
    "        def backtrack(candidates, combi, target):\n",
    "            if target == 0:\n",
    "                res.append(combi)\n",
    "                return\n",
    "            \n",
    "            idx = 0\n",
    "            length = len(candidates)\n",
    "            pre = None\n",
    "            \n",
    "            while idx < length:\n",
    "                \n",
    "                if candidates[idx] != pre:\n",
    "                \n",
    "                    if candidates[idx] <= target:\n",
    "                        backtrack(candidates[idx+1:], combi + [candidates[idx]], target - candidates[idx])\n",
    "                        pre = candidates[idx]\n",
    "                        \n",
    "                    else :\n",
    "                        break\n",
    "                    \n",
    "                idx += 1\n",
    "                    \n",
    "            if idx == length: # used while loop instead of for loop for this line\n",
    "                return\n",
    "            \n",
    "        backtrack(candidates, [], target)\n",
    "        return res\n",
    "        \n",
    "print(Solution().combinationSum2(candidates, target))"
   ]
  }
 ],
 "metadata": {
  "colab": {
   "collapsed_sections": [],
   "name": "(Jun)August_27&28.ipynb",
   "provenance": [],
   "toc_visible": true
  },
  "kernelspec": {
   "display_name": "Python 3",
   "language": "python",
   "name": "python3"
  },
  "language_info": {
   "codemirror_mode": {
    "name": "ipython",
    "version": 3
   },
   "file_extension": ".py",
   "mimetype": "text/x-python",
   "name": "python",
   "nbconvert_exporter": "python",
   "pygments_lexer": "ipython3",
   "version": "3.7.0"
  },
  "vscode": {
   "interpreter": {
    "hash": "a98eeef6cf88ce32741e62c207205cb55fd740c536f0d17f12ed7060a6dc17b0"
   }
  }
 },
 "nbformat": 4,
 "nbformat_minor": 1
}
