{
  "cells": [
    {
      "cell_type": "markdown",
      "metadata": {
        "id": "lhDGV0AtGpp4"
      },
      "source": [
        "# July"
      ]
    },
    {
      "cell_type": "markdown",
      "metadata": {
        "id": "JysnVMhchyjl"
      },
      "source": [
        "## 30th"
      ]
    },
    {
      "cell_type": "markdown",
      "metadata": {
        "id": "DMl2-dZadzwe"
      },
      "source": [
        "### (H) 1028. Recover a Tree From Preorder Traversal ★"
      ]
    },
    {
      "cell_type": "markdown",
      "metadata": {
        "id": "KtHkbu-pd6lT"
      },
      "source": [
        "IT'S MY FIRST TIME TO SOLVE A HARD PROBLEM IN LEETCODE !!!!"
      ]
    },
    {
      "cell_type": "code",
      "execution_count": null,
      "metadata": {
        "id": "LhaqbHDgd8_G"
      },
      "outputs": [],
      "source": [
        "class TreeNode(object):\n",
        "    def __init__(self, val=0, left=None, right=None):\n",
        "        self.val = val\n",
        "        self.left = left\n",
        "        self.right = right\n",
        "\n",
        "###### Test Cases ######\n",
        "\n",
        "#traversal = \"1-2--3--4-5--6--7\"\n",
        "traversal = \"1-2--3---5--4---6---7-8--9--10---11\"\n",
        "#traversal = \"1\"\n",
        "#traversal = \"10-7--8\"\n",
        "#traversal = \"5-6--2---4---3----10-----3-10--3\""
      ]
    },
    {
      "cell_type": "markdown",
      "metadata": {
        "id": "ht-6NwcqipzL"
      },
      "source": [
        "Define a function to check if the resulting tree is correct through a preorder traversal."
      ]
    },
    {
      "cell_type": "code",
      "execution_count": null,
      "metadata": {
        "id": "BXdOAPr4d-Hm"
      },
      "outputs": [],
      "source": [
        "def preorder(root):\n",
        "  if not root: return []\n",
        "\n",
        "  stack = [root]\n",
        "  footage = []\n",
        "\n",
        "  while stack:\n",
        "    cur_node = stack.pop()\n",
        "    if cur_node:\n",
        "      footage.append(cur_node.val)\n",
        "      stack.append(cur_node.right)\n",
        "      stack.append(cur_node.left)\n",
        "  return footage"
      ]
    },
    {
      "cell_type": "markdown",
      "metadata": {
        "id": "6r-Aa3zjqx6X"
      },
      "source": [
        "NOTE.\n",
        "\n",
        "A preorder traversal travels in the priority of leftmost nodes. So if we are already done with nodes to the left of the current node, we don't have to care those nodes. <br><br>\n",
        "\n",
        "The key point is to make sure the size of the stack is equal to the destination level (= 'curLv') that can be eqaul to, higher than or lower than previous level (='level')."
      ]
    },
    {
      "cell_type": "markdown",
      "metadata": {
        "id": "qLtVAKqX-aHp"
      },
      "source": [
        "90 / 60"
      ]
    },
    {
      "cell_type": "code",
      "execution_count": null,
      "metadata": {
        "id": "IGBPhbUsd_3t"
      },
      "outputs": [],
      "source": [
        "class Solution(object):\n",
        "    def recoverFromPreorder(self, traversal):\n",
        "        if traversal == '':\n",
        "          return None\n",
        "\n",
        "        traversal_len = len(traversal)\n",
        "\n",
        "        #def preorder(root):\n",
        "        #  if not root: return []\n",
        "\n",
        "        #  stack = [root]\n",
        "        #  footage = []\n",
        "\n",
        "        #  while stack:\n",
        "        #    cur_node = stack.pop()\n",
        "        #    if cur_node:\n",
        "        #      footage.append(cur_node.val)\n",
        "        #      stack.append(cur_node.right)\n",
        "        #      stack.append(cur_node.left)\n",
        "        #  return footage\n",
        "\n",
        "        def countNum(path):\n",
        "          for idx, lv in enumerate(path):\n",
        "            if lv == '-':\n",
        "              return idx\n",
        "          return len(path)\n",
        "\n",
        "        def countLevel(path):\n",
        "          for idx, lv in enumerate(path):\n",
        "            if lv != '-':\n",
        "              return idx\n",
        "\n",
        "        #### Initiate variables ####\n",
        "        intLen = countNum(traversal) # if a piece of 'traversal' corresponds to a treenode, count its digit lenght (ex.for '101-2---1')\n",
        "        root = TreeNode(int(traversal[:intLen])) # root node\n",
        "        cursor = root # cursor will move back and forth in an order of preorder traversal\n",
        "        traversal = traversal[intLen:] # cut out digits for nodes\n",
        "        level = 1 # the level (=phase) that 'cursor' are currently in\n",
        "        stack = [root, root] # stack for previous route to current cursor (with special conditions)\n",
        "        child = 0 # child counter for a level upshifting case\n",
        "        \n",
        "        while True :\n",
        "\n",
        "          print(f\"New loop starts, mystack : {list(map(lambda x: x.val, stack))}\")\n",
        "          if traversal == '': # ending condition\n",
        "            break\n",
        "\n",
        "          if traversal[0] != '-': # 1) when the head of the 'traversal' is digit\n",
        "            intLen = countNum(traversal)\n",
        "            stack.append(TreeNode(int(traversal[:intLen]))) # put it in our stack such that we can backtrace later when upshifting\n",
        "\n",
        "            if cursor.left == None:  # 1 - 1) if left child doest not exist (= no child node)\n",
        "              cursor.left = stack[-1] # we already stack this node in our 'stack' so use this fact\n",
        "              print(f'Left child added / parent : {cursor.val}, left child : {cursor.left.val}')\n",
        "              child = 1 # appending to the left means that one child is appended\n",
        "             \n",
        "            else: # 1- 2_\n",
        "              cursor.right = stack[-1]\n",
        "              print(f'Right child added / parent : {cursor.val}, right child : {cursor.right.val}')\n",
        "              child = 1 # appending to the right means that we should remove one more node from our stack when upshifting.\n",
        "\n",
        "            traversal = traversal[intLen:]\n",
        "\n",
        "          else: # 2) when the head of the 'traversal' is '-'\n",
        "            \n",
        "            curLv = countLevel(traversal)\n",
        "            traversal = traversal[curLv:]\n",
        "\n",
        "            if curLv > level: # 2 - 1) go deeper\n",
        "              print(f\"condition 1_ go deeper\")\n",
        "\n",
        "              if cursor.right == None:\n",
        "                cursor = cursor.left\n",
        "              else:\n",
        "                cursor = cursor.right\n",
        "              \n",
        "              level = curLv # current level becomes previous level in the next loop\n",
        "              child = 0 # child be reset to 0 when go deeper since there is no child node right after incrementing level\n",
        "\n",
        "            elif curLv == level: # 2 - 2) no change of phase\n",
        "              print(f\"condition 2_ no change of phase\")\n",
        "              stack.pop() # !!! WHY POP? Because no change of level means appending two lateral nodes in a row, which means that they are children of the same parent\n",
        "                          # !!! and that left child has no children nodes of it (=left nodes are done, check the NOTE. above this code cell.)\n",
        "              pass\n",
        "\n",
        "            else: # 2 - 3) upshifting level\n",
        "              print(f\"condition 3_ upshifting\")\n",
        "              print(f\"stack before popping is {list(map(lambda x: x.val, stack))}\")\n",
        "              print(f\"child : {child}\")\n",
        "              print(f\"level gap : {level - curLv}\")\n",
        "\n",
        "              for iter in range(level - curLv): # upshift phase by the level gap\n",
        "                \n",
        "                stack.pop()\n",
        "\n",
        "              if child == 1: # If current cursor has a child, pop one more node from 'stack'\n",
        "                stack.pop()\n",
        "              \n",
        "              cursor = stack[len(stack)-1] # update the current node\n",
        "              print(f\"current cursor after shifting level is {cursor.val}\")\n",
        "              print(f\"stack after popping is {list(map(lambda x: x.val, stack))}\")\n",
        "              print(f\"constructed tree so far is {preorder(root)}\")\n",
        "\n",
        "              level = curLv # current level becomes previous level in the next loop\n",
        "              child = 0 # child be reset to 0 when go deeper since there is no child node right after incrementing level\n",
        "\n",
        "\n",
        "        return root\n",
        "\n",
        "\n",
        "ans = Solution().recoverFromPreorder(traversal)"
      ]
    },
    {
      "cell_type": "code",
      "execution_count": null,
      "metadata": {
        "id": "ZKkPVRE2jO2v"
      },
      "outputs": [],
      "source": [
        "preorder(ans)"
      ]
    },
    {
      "cell_type": "markdown",
      "metadata": {
        "id": "bq2_XtFK-Ysa"
      },
      "source": [
        "Leetcode submission (clean ver.)"
      ]
    },
    {
      "cell_type": "code",
      "execution_count": null,
      "metadata": {
        "id": "nWUdlIUg-hvR"
      },
      "outputs": [],
      "source": [
        "class Solution(object):\n",
        "    def recoverFromPreorder(self, traversal):\n",
        "        if traversal == '':\n",
        "          return None\n",
        "\n",
        "        def countNum(path):\n",
        "          for idx, lv in enumerate(path):\n",
        "            if lv == '-':\n",
        "              return idx\n",
        "          return len(path)\n",
        "\n",
        "        def countLevel(path):\n",
        "          for idx, lv in enumerate(path):\n",
        "            if lv != '-':\n",
        "              return idx\n",
        "\n",
        "        traversal_len = len(traversal)\n",
        "        intLen = countNum(traversal) \n",
        "        root = TreeNode(int(traversal[:intLen]))\n",
        "        cursor = root \n",
        "        traversal = traversal[intLen:]\n",
        "        level = 1 \n",
        "        stack = [root, root] \n",
        "        child = 0 \n",
        "        \n",
        "        while True :\n",
        "\n",
        "          if traversal == '':\n",
        "            break\n",
        "\n",
        "          if traversal[0] != '-':\n",
        "            intLen = countNum(traversal)\n",
        "            stack.append(TreeNode(int(traversal[:intLen])))\n",
        "\n",
        "            if cursor.left == None:\n",
        "              cursor.left = stack[-1]\n",
        "              child = 1\n",
        "             \n",
        "            else:\n",
        "              cursor.right = stack[-1]\n",
        "              child = 1\n",
        "\n",
        "            traversal = traversal[intLen:]\n",
        "\n",
        "          else:\n",
        "            \n",
        "            curLv = countLevel(traversal)\n",
        "            traversal = traversal[curLv:]\n",
        "\n",
        "            if curLv > level:\n",
        "\n",
        "              cursor = cursor.left if cursor.right == None else cursor.right\n",
        "              level = curLv\n",
        "              child = 0\n",
        "\n",
        "            elif curLv == level:\n",
        "              stack.pop()\n",
        "              pass\n",
        "\n",
        "            else:\n",
        "\n",
        "              for iter in range(level - curLv):\n",
        "                stack.pop()\n",
        "\n",
        "              if child == 1:\n",
        "                stack.pop()\n",
        "              \n",
        "              cursor = stack[len(stack)-1]\n",
        "              level = curLv\n",
        "              child = 0\n",
        "\n",
        "        return root\n",
        "\n",
        "\n",
        "ans = Solution().recoverFromPreorder(traversal)"
      ]
    },
    {
      "cell_type": "markdown",
      "metadata": {
        "id": "9Z8No3NDDoLX"
      },
      "source": [
        "### (M) 73. Set Matrix Zeroes ★"
      ]
    },
    {
      "cell_type": "markdown",
      "metadata": {
        "id": "zxuwj50vDtgL"
      },
      "source": [
        "※ You must do it in place."
      ]
    },
    {
      "cell_type": "markdown",
      "metadata": {
        "id": "jP3mZufsGv_E"
      },
      "source": [
        "Easiest way - 62 / 20<br><br>\n",
        "Space Complexity : O(m + n)"
      ]
    },
    {
      "cell_type": "code",
      "execution_count": null,
      "metadata": {
        "id": "06FWkCwiDumb"
      },
      "outputs": [],
      "source": [
        "class Solution(object):\n",
        "    def setZeroes(self, matrix):\n",
        "        i_s = []\n",
        "        j_s = []\n",
        "\n",
        "        for i in range(len(matrix)):\n",
        "          for j in range(len(matrix[0])):\n",
        "            if matrix[i][j] == 0:\n",
        "              i_s.append(i)\n",
        "              j_s.append(j)\n",
        "\n",
        "        i_s = list(set(i_s))\n",
        "        j_s = list(set(j_s))\n",
        "\n",
        "        if i_s != []:\n",
        "          for i in i_s:\n",
        "            for j in range(len(matrix[0])):\n",
        "              matrix[i][j] = 0\n",
        "\n",
        "          for j in j_s:\n",
        "            for i in list(set(range(len(matrix))) - set(i_s)):\n",
        "              matrix[i][j] = 0\n",
        "\n",
        "        else:\n",
        "          None\n",
        "        "
      ]
    },
    {
      "cell_type": "markdown",
      "metadata": {
        "id": "vzUerJ-kGzoW"
      },
      "source": [
        "[Best solution in leetcode discussion](https://leetcode.com/problems/set-matrix-zeroes/discuss/657430/Python-Solution-w-approach-explanation-and-readable-with-space-progression-from%3A-O(m%2Bn)-and-O(1))<br><br>Space complexity : O(1)"
      ]
    },
    {
      "cell_type": "code",
      "execution_count": null,
      "metadata": {
        "id": "fePDtw7TDuor"
      },
      "outputs": [],
      "source": [
        "class Solution():\n",
        "    def setZeroes(self, matrix):\n",
        "\n",
        "        m = len(matrix)\n",
        "        n = len(matrix[0])\n",
        "\t\t\n",
        "        first_row_has_zero = False\n",
        "        first_col_has_zero = False\n",
        "        \n",
        "        # iterate through matrix to mark the zero row and cols\n",
        "        for row in range(m):\n",
        "            for col in range(n):\n",
        "                if matrix[row][col] == 0:\n",
        "                    if row == 0:\n",
        "                        first_row_has_zero = True\n",
        "                    if col == 0:\n",
        "                        first_col_has_zero = True\n",
        "                    matrix[row][0] = matrix[0][col] = 0\n",
        "    \n",
        "        # iterate through matrix to update the cell to be zero if it's in a zero row or col\n",
        "        for row in range(1, m):\n",
        "            for col in range(1, n):\n",
        "                matrix[row][col] = 0 if matrix[0][col] == 0 or matrix[row][0] == 0 else matrix[row][col]\n",
        "        \n",
        "        # update the first row and col if they're zero\n",
        "        if first_row_has_zero:\n",
        "            for col in range(n):\n",
        "                matrix[0][col] = 0\n",
        "        \n",
        "        if first_col_has_zero:\n",
        "            for row in range(m):\n",
        "                matrix[row][0] = 0"
      ]
    },
    {
      "cell_type": "markdown",
      "metadata": {
        "id": "KVankQYxi-pm"
      },
      "source": [
        "## 31th"
      ]
    },
    {
      "cell_type": "markdown",
      "metadata": {
        "id": "k266-YwGK6dK"
      },
      "source": [
        "### (M) 890. Find and Replace Pattern"
      ]
    },
    {
      "cell_type": "markdown",
      "metadata": {
        "id": "SIrrhcHQLO7O"
      },
      "source": [
        "Similar to 205. Isomorphic Strings"
      ]
    },
    {
      "cell_type": "markdown",
      "metadata": {
        "id": "lj_jBbDXPeVY"
      },
      "source": [
        "30 / 90"
      ]
    },
    {
      "cell_type": "code",
      "execution_count": null,
      "metadata": {
        "colab": {
          "base_uri": "https://localhost:8080/"
        },
        "id": "to6JlSgnOMg0",
        "outputId": "b6f43e76-c75f-4833-d686-4af6d462b76a"
      },
      "outputs": [
        {
          "name": "stdout",
          "output_type": "stream",
          "text": [
            "['mee', 'aqq']\n"
          ]
        }
      ],
      "source": [
        "words = [\"abc\",\"deq\",\"mee\",\"aqq\",\"dkd\",\"ccc\"]\n",
        "pattern = \"abb\"\n",
        "\n",
        "class Solution(object):\n",
        "    def findAndReplacePattern(self, words, pattern):\n",
        "        ans = []\n",
        "\n",
        "        for word in words:\n",
        "          breaker = 0\n",
        "          hash = {}\n",
        "          for idx in range(len(pattern)):\n",
        "            if pattern[idx] not in hash: # if a new character of pattern\n",
        "              if word[idx] in hash.values():\n",
        "                breaker = 1\n",
        "                break\n",
        "              else: # also previously not added\n",
        "                hash[pattern[idx]] = word[idx]\n",
        "            \n",
        "            else: # not a new one\n",
        "              if hash[pattern[idx]] != word[idx]:\n",
        "                breaker = 1\n",
        "                break\n",
        "          if breaker == 0:\n",
        "            ans.append(word)\n",
        "\n",
        "        return ans\n",
        "\n",
        "  \n",
        "print(Solution().findAndReplacePattern(words, pattern))      "
      ]
    },
    {
      "cell_type": "markdown",
      "metadata": {
        "id": "57_4ZEtzPzgb"
      },
      "source": [
        "A bit concise way - 42 / 98"
      ]
    },
    {
      "cell_type": "code",
      "execution_count": null,
      "metadata": {
        "colab": {
          "base_uri": "https://localhost:8080/"
        },
        "id": "Z3DtfHiQPR-2",
        "outputId": "b8950c2f-2450-41d5-e912-2a60ae10a803"
      },
      "outputs": [
        {
          "name": "stdout",
          "output_type": "stream",
          "text": [
            "['a', 'b', 'c']\n"
          ]
        }
      ],
      "source": [
        "#words = [\"abc\",\"deq\",\"mee\",\"aqq\",\"dkd\",\"ccc\"]\n",
        "#pattern = \"abb\"\n",
        "\n",
        "words = ['a', 'b', 'c']\n",
        "pattern = 'x'\n",
        "\n",
        "class Solution(object):\n",
        "    def findAndReplacePattern(self, words, pattern):\n",
        "        ans = []\n",
        "\n",
        "        for word in words:\n",
        "          hash = {}\n",
        "          for idx in range(len(pattern)):\n",
        "            if pattern[idx] not in hash: # if a new character of pattern\n",
        "              if word[idx] in hash.values():\n",
        "                break\n",
        "              else: # also previously not added\n",
        "                hash[pattern[idx]] = word[idx]\n",
        "            \n",
        "            else: # not a new one\n",
        "              if hash[pattern[idx]] != word[idx]:\n",
        "                break\n",
        "          \n",
        "          else:\n",
        "            ans.append(word)\n",
        "          pass\n",
        "            \n",
        "        return ans\n",
        "\n",
        "  \n",
        "print(Solution().findAndReplacePattern(words, pattern))      "
      ]
    },
    {
      "cell_type": "markdown",
      "metadata": {
        "id": "nWGdL5C9Qyk6"
      },
      "source": [
        "[Best solution in leetcode discussion](https://leetcode.com/problems/find-and-replace-pattern/discuss/161775/Short-python-isomorphism-solution)"
      ]
    },
    {
      "cell_type": "code",
      "execution_count": null,
      "metadata": {
        "id": "ce4xyJZZQy1Z"
      },
      "outputs": [],
      "source": [
        "class Solution(object):\n",
        "    def findAndReplacePattern(self, words, pattern):\n",
        "        b = pattern\n",
        "        def is_iso(a):\n",
        "\n",
        "            return len(set(a)) == len(set(b)) == len(set(zip(a, b)))\n",
        "\n",
        "        return filter(is_iso, words)"
      ]
    },
    {
      "cell_type": "markdown",
      "metadata": {
        "id": "VoBC91wLU3yb"
      },
      "source": [
        "### (E) 136. Single Number ★"
      ]
    },
    {
      "cell_type": "markdown",
      "metadata": {
        "id": "DobqLCGOWDD7"
      },
      "source": [
        "56 / 21"
      ]
    },
    {
      "cell_type": "code",
      "execution_count": null,
      "metadata": {
        "colab": {
          "base_uri": "https://localhost:8080/"
        },
        "id": "6Dj7R5VsVxoN",
        "outputId": "caabc5b0-9cf6-47f2-84e6-c90edc9a43e7"
      },
      "outputs": [
        {
          "data": {
            "text/plain": [
              "4"
            ]
          },
          "execution_count": 74,
          "metadata": {},
          "output_type": "execute_result"
        }
      ],
      "source": [
        "nums = [4,1,2,1,2]\n",
        "\n",
        "class Solution(object):\n",
        "    def singleNumber(self, nums):\n",
        "        hash = {}\n",
        "        for ele in nums:\n",
        "          if ele not in hash:\n",
        "            hash[ele] = 'O'\n",
        "\n",
        "          else:\n",
        "            hash.pop(ele)\n",
        "\n",
        "        return int(list(hash.keys())[0])\n",
        "        \n",
        "Solution().singleNumber(nums)"
      ]
    },
    {
      "cell_type": "markdown",
      "metadata": {
        "id": "RU6rZWuvWfHQ"
      },
      "source": [
        "Best solution in leetcode discussion"
      ]
    },
    {
      "cell_type": "markdown",
      "metadata": {
        "id": "zEYiUhVyXGAN"
      },
      "source": [
        "[Reduce](https://thepythonguru.com/python-builtin-functions/reduce/) function?"
      ]
    },
    {
      "cell_type": "code",
      "execution_count": null,
      "metadata": {
        "id": "6u_5rHJNVSJN"
      },
      "outputs": [],
      "source": [
        "def singleNumber(self, nums):\n",
        "\treturn reduce(lambda total, el: total ^ el, nums)"
      ]
    },
    {
      "cell_type": "markdown",
      "metadata": {
        "id": "ihnfeVYEdyCm"
      },
      "source": [
        "### (M) 916. Word Subsets ★★"
      ]
    },
    {
      "cell_type": "markdown",
      "metadata": {
        "id": "KjVf-fCXxk0r"
      },
      "source": [
        "85 / 25"
      ]
    },
    {
      "cell_type": "code",
      "execution_count": null,
      "metadata": {
        "colab": {
          "base_uri": "https://localhost:8080/"
        },
        "id": "RnXDVQlYdyb9",
        "outputId": "db49c01c-5447-4d84-979d-a3f0da5728ed"
      },
      "outputs": [
        {
          "name": "stdout",
          "output_type": "stream",
          "text": [
            "['google', 'leetcode']\n"
          ]
        }
      ],
      "source": [
        "A = [\"amazon\",\"apple\",\"facebook\",\"google\",\"leetcode\"]\n",
        "B = [\"lo\",\"eo\"]\n",
        "# [\"google\",\"leetcode\"]\n",
        "\n",
        "\n",
        "class Solution(object):\n",
        "    def wordSubsets(self, A, B):\n",
        "\n",
        "        hash = {}\n",
        "        \n",
        "        for b in B:\n",
        "            for char in b:\n",
        "               # Key idea : Do not make a hash for each element in B,\n",
        "               #            instead utilize the fact that constructing union(elements in B)\n",
        "               #            and filter it only once on each element in A is enough\n",
        "               hash[char] = max(b.count(char), hash.get(char, 0))\n",
        "\n",
        "                    \n",
        "        ans = []\n",
        "        for a in A:\n",
        "\n",
        "            if all(a.count(char) >= hash[char] for char in hash.keys()):\n",
        "                ans.append(a)\n",
        "                \n",
        "        return ans\n",
        "\n",
        "print(Solution().wordSubsets(A, B))"
      ]
    }
  ],
  "metadata": {
    "colab": {
      "collapsed_sections": [],
      "name": "(Jun)July_30&31.ipynb",
      "provenance": [],
      "toc_visible": true
    },
    "kernelspec": {
      "display_name": "Python 3.7.0 64-bit",
      "language": "python",
      "name": "python3"
    },
    "language_info": {
      "name": "python",
      "version": "3.7.0"
    },
    "vscode": {
      "interpreter": {
        "hash": "a98eeef6cf88ce32741e62c207205cb55fd740c536f0d17f12ed7060a6dc17b0"
      }
    }
  },
  "nbformat": 4,
  "nbformat_minor": 0
}
