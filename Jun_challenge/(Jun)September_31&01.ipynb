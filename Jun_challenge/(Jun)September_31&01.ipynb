{
 "cells": [
  {
   "cell_type": "markdown",
   "metadata": {
    "id": "lhDGV0AtGpp4"
   },
   "source": [
    "# September"
   ]
  },
  {
   "cell_type": "markdown",
   "metadata": {
    "id": "Uz1WCS_yKFwP"
   },
   "source": [
    "## 31th (August)"
   ]
  },
  {
   "cell_type": "markdown",
   "metadata": {},
   "source": [
    "### (M) 417. Pacific Atlantic Water Flow ★★"
   ]
  },
  {
   "cell_type": "markdown",
   "metadata": {},
   "source": [
    "Time limit exceeded ... the whole code must be more shortened"
   ]
  },
  {
   "cell_type": "code",
   "execution_count": 29,
   "metadata": {},
   "outputs": [
    {
     "data": {
      "text/plain": [
       "[(0, 4), (1, 3), (1, 4), (2, 2), (3, 0), (3, 1), (4, 0)]"
      ]
     },
     "execution_count": 29,
     "metadata": {},
     "output_type": "execute_result"
    }
   ],
   "source": [
    "from typing import List\n",
    "heights = [[1,2,2,3,5],[3,2,3,4,4],[2,4,5,3,1],[6,7,1,4,5],[5,1,1,2,4]]\n",
    "\n",
    "class Solution:\n",
    "    def pacificAtlantic(self, heights: List[List[int]]) -> List[List[int]]:\n",
    "\n",
    "        def dfs_loop(grid):\n",
    "            self.m, self.n = len(grid), len(grid[0])\n",
    "            self.res = []\n",
    "            visited_map = [['X' for i in range(self.n)] for j in range(self.m)]\n",
    "            self.Pac, self.Atl = False, False\n",
    "\n",
    "            for i in range(len(grid)):\n",
    "                for j in range(len(grid[0])):\n",
    "\n",
    "\n",
    "                    dfs(i, j, visited_map, grid)\n",
    "                    if self.Pac == True == self.Atl:\n",
    "                        self.res.append( (i, j) )\n",
    "\n",
    "                    self.Pac, self.Atl = False, False\n",
    "                    \n",
    "            return self.res\n",
    "\n",
    "\n",
    "        def dfs(i, j, visited_map, grid):\n",
    "            if (i, j) in self.res:\n",
    "                self.Pac, self.Atl = True, True\n",
    "                return\n",
    "\n",
    "            if (visited_map[i][j] == 'O'):\n",
    "                return\n",
    "            \n",
    "            ## Pacific condition ##\n",
    "            if (i == 0) or (j == 0):\n",
    "                self.Pac = True\n",
    "                ## Reach both at once ##\n",
    "                if ((i == 0) and (j == self.n - 1)) or ((i == self.m - 1) and (j == 0)):\n",
    "                    self.Atl = True\n",
    "                \n",
    "                for next_i, next_j in [(i-1, j), (i+1, j), (i, j+1), (i, j-1)]:\n",
    "                    if (next_i<0) or (next_j<0) or (next_i>=self.m) or (next_j>=self.n):\n",
    "                        pass\n",
    "                    else:\n",
    "                        if grid[i][j] >= grid[next_i][next_j]:\n",
    "                            visited_map[i][j] = 'O'\n",
    "                            dfs(next_i, next_j, visited_map, grid)\n",
    "                            visited_map[i][j] = 'X'\n",
    "\n",
    "                return\n",
    "\n",
    "            ## Atlantic condition ##\n",
    "            if (i == self.m - 1) or (j == self.n - 1):\n",
    "                self.Atl = True\n",
    "                ## Reach both at once ##\n",
    "                if ((i == 0) and (j == self.n - 1)) or ((i == self.m - 1) and (j == 0)):\n",
    "                    self.Pac = True\n",
    "                    \n",
    "                for next_i, next_j in [(i-1, j), (i+1, j), (i, j+1), (i, j-1)]:\n",
    "                    if (next_i<0) or (next_j<0) or (next_i>=self.m) or (next_j>=self.n):\n",
    "                        pass\n",
    "                    else:\n",
    "                        if grid[i][j] >= grid[next_i][next_j]:\n",
    "                            visited_map[i][j] = 'O'\n",
    "                            dfs(next_i, next_j, visited_map, grid)\n",
    "                            visited_map[i][j] = 'X'\n",
    "                    \n",
    "                return\n",
    "\n",
    "\n",
    "            for next_i, next_j in [(i-1, j), (i+1, j), (i, j+1), (i, j-1)]:\n",
    "                \n",
    "                if grid[i][j] >= grid[next_i][next_j]:\n",
    "                    visited_map[i][j] = 'O'\n",
    "                    dfs(next_i, next_j, visited_map, grid)\n",
    "                    visited_map[i][j] = 'X'\n",
    "                    \n",
    "\n",
    "                \n",
    "        return dfs_loop(heights)\n",
    "Solution().pacificAtlantic(heights)"
   ]
  },
  {
   "cell_type": "markdown",
   "metadata": {},
   "source": [
    "58 / 5"
   ]
  },
  {
   "cell_type": "code",
   "execution_count": 33,
   "metadata": {},
   "outputs": [
    {
     "name": "stdout",
     "output_type": "stream",
     "text": [
      "{(0, 1), (1, 2), (0, 0), (1, 3), (3, 0), (2, 2), (1, 0), (3, 1), (1, 4), (2, 1), (2, 0), (1, 1), (0, 4), (0, 3), (0, 2), (4, 0)}\n",
      "{(4, 1), (1, 3), (3, 2), (3, 3), (3, 0), (2, 2), (4, 4), (3, 1), (1, 4), (2, 3), (4, 3), (0, 4), (4, 2), (3, 4), (2, 4), (4, 0)}\n"
     ]
    },
    {
     "data": {
      "text/plain": [
       "[(1, 3), (3, 0), (3, 1), (1, 4), (0, 4), (2, 2), (4, 0)]"
      ]
     },
     "execution_count": 33,
     "metadata": {},
     "output_type": "execute_result"
    }
   ],
   "source": [
    "from typing import List\n",
    "heights = [[1,2,2,3,5],[3,2,3,4,4],[2,4,5,3,1],[6,7,1,4,5],[5,1,1,2,4]]\n",
    "\n",
    "class Solution:\n",
    "    def pacificAtlantic(self, matrix: List[List[int]]) -> List[List[int]]:\n",
    "\n",
    "        if not matrix:\n",
    "            return []\n",
    "\n",
    "        rows, cols = len(matrix), len(matrix[0])\n",
    "        p_visited = set()\n",
    "        a_visited = set()\n",
    "        directions = ((0, 1), (0, -1), (1, 0), (-1, 0))\n",
    "\n",
    "        def dfs(i, j, visited):\n",
    "            \n",
    "            if (i, j) in visited:\n",
    "                return\n",
    "            \n",
    "            visited.add((i, j))\n",
    "\n",
    "            for direction in directions:\n",
    "                next_i, next_j = i + direction[0], j + direction[1]\n",
    "                \n",
    "                if (0 <= next_i < rows) and (0 <= next_j < cols):\n",
    "                    \n",
    "                    if matrix[next_i][next_j] >= matrix[i][j]:\n",
    "                        dfs(next_i, next_j, visited)\n",
    "\n",
    "        for row in range(rows):\n",
    "            dfs(row, 0, p_visited)\n",
    "            dfs(row, cols - 1, a_visited)\n",
    "\n",
    "        for col in range(cols):\n",
    "            dfs(0, col, p_visited)\n",
    "            dfs(rows - 1, col, a_visited)\n",
    "            \n",
    "        print(p_visited)\n",
    "        print(a_visited)\n",
    "\n",
    "        return list(p_visited & a_visited)\n",
    "Solution().pacificAtlantic(heights)"
   ]
  },
  {
   "cell_type": "markdown",
   "metadata": {
    "id": "Uz1WCS_yKFwP"
   },
   "source": [
    "## 1st"
   ]
  },
  {
   "cell_type": "markdown",
   "metadata": {},
   "source": [
    "### (M) 48. Rotate Image ★★"
   ]
  },
  {
   "cell_type": "markdown",
   "metadata": {},
   "source": [
    "Standard method but took quite much time for me to come up with this solution since I still lack the appreciation of pointers - tried to swap a row with another row-like list (actually was a column) at once like a fool."
   ]
  },
  {
   "cell_type": "code",
   "execution_count": 12,
   "metadata": {},
   "outputs": [
    {
     "data": {
      "text/plain": [
       "[[15, 13, 2, 5], [14, 3, 4, 1], [12, 6, 8, 9], [16, 7, 10, 11]]"
      ]
     },
     "execution_count": 12,
     "metadata": {},
     "output_type": "execute_result"
    }
   ],
   "source": [
    "from typing import List\n",
    "\n",
    "matrix = [[5,1,9,11],[2,4,8,10],[13,3,6,7],[15,14,12,16]]\n",
    "\n",
    "class Solution:\n",
    "    def rotate(self, matrix: List[List[int]]) -> None:\n",
    "        \"\"\"\n",
    "        Do not return anything, modify matrix in-place instead.\n",
    "        \"\"\"\n",
    "        # reverse\n",
    "        l = 0\n",
    "        r = len(matrix) -1\n",
    "        while l < r:\n",
    "            matrix[l], matrix[r] = matrix[r], matrix[l]\n",
    "            l += 1\n",
    "            r -= 1\n",
    "            \n",
    "        # transpose \n",
    "        for i in range(len(matrix)):\n",
    "            for j in range(i):\n",
    "                matrix[i][j], matrix[j][i] = matrix[j][i], matrix[i][j]\n",
    "                \n",
    "        return matrix\n",
    "        \n",
    "Solution().rotate(matrix)"
   ]
  },
  {
   "cell_type": "markdown",
   "metadata": {},
   "source": [
    "<a href=\"https://leetcode.com/problems/rotate-image/discuss/18884/Seven-Short-Solutions-(1-to-7-lines)\">One of the best seven short solutions from LeetCode discussion</a>"
   ]
  },
  {
   "cell_type": "code",
   "execution_count": null,
   "metadata": {},
   "outputs": [],
   "source": [
    "class Solution:\n",
    "    def rotate(self, A):\n",
    "        A.reverse() # reverse the matrix upside-down in one line\n",
    "        for i in range(len(A)):\n",
    "            for j in range(i):\n",
    "                A[i][j], A[j][i] = A[j][i], A[i][j]"
   ]
  },
  {
   "cell_type": "markdown",
   "metadata": {},
   "source": [
    "### (E) 94. Binary Tree Inorder Traversal"
   ]
  },
  {
   "attachments": {
    "image.png": {
     "image/png": "[encoded data removed]"
    }
   },
   "cell_type": "markdown",
   "metadata": {},
   "source": [
    "![image.png](attachment:image.png)"
   ]
  },
  {
   "cell_type": "code",
   "execution_count": 34,
   "metadata": {},
   "outputs": [],
   "source": [
    "class TreeNode:\n",
    "    def __init__(self, val=0, left=None, right=None):\n",
    "        self.val = val\n",
    "        self.left = left\n",
    "        self.right = right\n",
    "        \n",
    "root = TreeNode(1)\n",
    "root.right = TreeNode(2)\n",
    "root.right.left = TreeNode(3)"
   ]
  },
  {
   "cell_type": "markdown",
   "metadata": {},
   "source": [
    "Recursive solution - 72 / 60"
   ]
  },
  {
   "cell_type": "code",
   "execution_count": null,
   "metadata": {},
   "outputs": [],
   "source": [
    "class Solution:\n",
    "    def inorderTraversal(self, root: Optional[TreeNode]) -> List[int]:\n",
    "        result = []\n",
    "        \n",
    "        def dfs(node):\n",
    "            if node is not None:\n",
    "                \n",
    "                dfs(node.left)\n",
    "                result.append(node.val)\n",
    "                dfs(node.right)\n",
    "            \n",
    "        dfs(root)\n",
    "        return result"
   ]
  },
  {
   "cell_type": "markdown",
   "metadata": {},
   "source": [
    "Iterative solution - 97 / 60"
   ]
  },
  {
   "cell_type": "code",
   "execution_count": null,
   "metadata": {},
   "outputs": [],
   "source": [
    "class Solution:\n",
    "    def inorderTraversal(self, root: Optional[TreeNode]) -> List[int]:\n",
    "        result = []\n",
    "        stack = []\n",
    "        cur = root\n",
    "        \n",
    "        while cur or stack:\n",
    "            while cur:\n",
    "                stack.append(cur)\n",
    "                cur = cur.left\n",
    "            cur = stack.pop()\n",
    "            result.append(cur.val)\n",
    "            cur = cur.right\n",
    "            \n",
    "        return result"
   ]
  }
 ],
 "metadata": {
  "colab": {
   "collapsed_sections": [],
   "name": "(Jun)August_27&28.ipynb",
   "provenance": [],
   "toc_visible": true
  },
  "kernelspec": {
   "display_name": "Python 3.7.0 64-bit",
   "language": "python",
   "name": "python3"
  },
  "language_info": {
   "codemirror_mode": {
    "name": "ipython",
    "version": 3
   },
   "file_extension": ".py",
   "mimetype": "text/x-python",
   "name": "python",
   "nbconvert_exporter": "python",
   "pygments_lexer": "ipython3",
   "version": "3.7.0"
  },
  "vscode": {
   "interpreter": {
    "hash": "a98eeef6cf88ce32741e62c207205cb55fd740c536f0d17f12ed7060a6dc17b0"
   }
  }
 },
 "nbformat": 4,
 "nbformat_minor": 1
}
