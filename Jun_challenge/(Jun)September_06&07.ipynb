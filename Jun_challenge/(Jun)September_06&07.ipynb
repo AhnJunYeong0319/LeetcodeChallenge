{
 "cells": [
  {
   "cell_type": "markdown",
   "metadata": {
    "id": "lhDGV0AtGpp4"
   },
   "source": [
    "# September"
   ]
  },
  {
   "cell_type": "markdown",
   "metadata": {
    "id": "Uz1WCS_yKFwP"
   },
   "source": [
    "## 4th"
   ]
  },
  {
   "cell_type": "markdown",
   "metadata": {},
   "source": [
    "### (M) 429. N-ary Tree Level Order Traversal"
   ]
  }
 ],
 "metadata": {
  "colab": {
   "collapsed_sections": [],
   "name": "(Jun)August_27&28.ipynb",
   "provenance": [],
   "toc_visible": true
  },
  "kernelspec": {
   "display_name": "Python 3",
   "language": "python",
   "name": "python3"
  },
  "language_info": {
   "codemirror_mode": {
    "name": "ipython",
    "version": 3
   },
   "file_extension": ".py",
   "mimetype": "text/x-python",
   "name": "python",
   "nbconvert_exporter": "python",
   "pygments_lexer": "ipython3",
   "version": "3.7.9"
  },
  "vscode": {
   "interpreter": {
    "hash": "a98eeef6cf88ce32741e62c207205cb55fd740c536f0d17f12ed7060a6dc17b0"
   }
  }
 },
 "nbformat": 4,
 "nbformat_minor": 1
}
