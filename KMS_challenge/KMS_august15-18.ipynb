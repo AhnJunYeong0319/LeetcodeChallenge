{
  "metadata": {
    "language_info": {
      "codemirror_mode": {
        "name": "python",
        "version": 3
      },
      "file_extension": ".py",
      "mimetype": "text/x-python",
      "name": "python",
      "nbconvert_exporter": "python",
      "pygments_lexer": "ipython3",
      "version": "3.8"
    },
    "kernelspec": {
      "name": "python",
      "display_name": "Python (Pyodide)",
      "language": "python"
    }
  },
  "nbformat_minor": 4,
  "nbformat": 4,
  "cells": [
    {
      "cell_type": "markdown",
      "source": "# August 15-18",
      "metadata": {}
    },
    {
      "cell_type": "markdown",
      "source": "**88. Merge Sorted Array (E)**",
      "metadata": {}
    },
    {
      "cell_type": "code",
      "source": "class Solution:\n    def merge(self, nums1, m: int, nums2, n: int) -> None:\n        \"\"\"\n        Do not return anything, modify nums1 in-place instead.\n        \"\"\"\n        i = 0\n        j = 0\n        \n        for k in range(m-1,-1,-1):\n            nums1[k+n] = nums1[k]\n        curr = 0\n        while i<m and j<n:\n            if nums1[i+n]<nums2[j]:\n                nums1[curr] = nums1[i+n]\n                i+=1\n            else:\n                nums1[curr] = nums2[j]\n                j+=1\n            curr+=1\n        if i==m:\n            while j<n:\n                nums1[curr] = nums2[j]\n                curr+=1\n                j+=1\n        else:\n            while i<m:\n                nums1[curr] = nums1[i+n]\n                curr+=1\n                i+=1\n        \n        ",
      "metadata": {
        "trusted": true
      },
      "execution_count": 3,
      "outputs": []
    },
    {
      "cell_type": "markdown",
      "source": "**94. Binary Tree Inorder Traversal (E)**",
      "metadata": {}
    },
    {
      "cell_type": "code",
      "source": "class Solution:\n    def inorderTraversal(self, root: Optional[TreeNode]) -> List[int]:\n        res = []\n        def recursive(root):\n            if not root:\n                return\n            recursive(root.left if root.left else None)\n            res.append(root.val)\n            recursive(root.right if root.right else None)\n        recursive(root)\n        return res",
      "metadata": {},
      "execution_count": null,
      "outputs": []
    },
    {
      "cell_type": "markdown",
      "source": "**100. Same Tree (E)**",
      "metadata": {}
    },
    {
      "cell_type": "code",
      "source": "class Solution:\n    def isSameTree(self, p: Optional[TreeNode], q: Optional[TreeNode]) -> bool:\n        def dfs(root1, root2):\n            if not root1 and root2:\n                return False\n            if not root2 and root1:\n                return False\n            if not root1 and not root2:\n                return True\n            if root1.val != root2.val:\n                return False\n            return dfs(root1.left,root2.left) and dfs(root1.right, root2.right)\n        return dfs(p,q)",
      "metadata": {},
      "execution_count": null,
      "outputs": []
    },
    {
      "cell_type": "markdown",
      "source": "**104. Maximum Depth of Binary Tree (M)**",
      "metadata": {}
    },
    {
      "cell_type": "code",
      "source": "class Solution:\n    def maxDepth(self, root) -> int:\n        if not root:\n            return 0\n        depth = 0\n        q = [root]\n        while q:\n            for i in range(len(q)):\n                curr = q.pop(0)\n                if curr.left:\n                    q.append(curr.left)\n                if curr.right:\n                    q.append(curr.right) \n            depth+=1\n        return depth\n            ",
      "metadata": {
        "trusted": true
      },
      "execution_count": 5,
      "outputs": []
    },
    {
      "cell_type": "markdown",
      "source": "**236. Lowest Common Ancestor of a Binary Tree (M)**",
      "metadata": {}
    },
    {
      "cell_type": "code",
      "source": "class Solution:\n    def lowestCommonAncestor(self, root, p, q) :\n        def dfs(root):\n            if root == None:\n                return None\n            if root == p:\n                return root\n            if root == q:\n                return root\n            lres = dfs(root.left) #can return either p, q, answer, or None\n            rres = dfs(root.right)\n            if lres == p and rres == q:\n                return root\n            if lres == q and rres == p:\n                return root \n            if lres != None:\n                return lres\n            if rres != None:\n                return rres\n            return None\n        return dfs(root)",
      "metadata": {
        "trusted": true
      },
      "execution_count": 7,
      "outputs": []
    },
    {
      "cell_type": "markdown",
      "source": "**416. Partition Equal Subset Sum (M)**",
      "metadata": {}
    },
    {
      "cell_type": "code",
      "source": "class Solution:\n    def canPartition(self, nums: List[int]) -> bool:\n        s = sum(nums)\n        if s%2 != 0:\n            return False\n\n        target = s//2\n        memo = dict()\n\n        def isSum(tar, n):\n            if (tar, n) in memo:\n                return memo[(tar, n)]\n            if n<0:\n                return False\n\n            if tar == sum(nums[:n]):\n                memo[(tar,n)] = True \n                return True\n            memo[(tar,n)] = isSum(tar-nums[n-1], n-1) or isSum(tar, n-1)\n            return memo[(tar,n)]\n\n        return isSum(target, len(nums))",
      "metadata": {},
      "execution_count": null,
      "outputs": []
    }
  ]
}