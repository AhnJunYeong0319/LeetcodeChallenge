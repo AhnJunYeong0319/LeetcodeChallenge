{
  "metadata": {
    "language_info": {
      "codemirror_mode": {
        "name": "python",
        "version": 3
      },
      "file_extension": ".py",
      "mimetype": "text/x-python",
      "name": "python",
      "nbconvert_exporter": "python",
      "pygments_lexer": "ipython3",
      "version": "3.8"
    },
    "kernelspec": {
      "name": "python",
      "display_name": "Python (Pyodide)",
      "language": "python"
    }
  },
  "nbformat_minor": 4,
  "nbformat": 4,
  "cells": [
    {
      "cell_type": "markdown",
      "source": "# August 19-20",
      "metadata": {}
    },
    {
      "cell_type": "markdown",
      "source": "**1980. Find Unique Binary String (M)**",
      "metadata": {}
    },
    {
      "cell_type": "code",
      "source": "class Solution:\n    def findDifferentBinaryString(self, nums) -> str:\n        present = set()\n        for num in nums:\n            present.add(int(num,2))\n            \n        for i in range(int(\"1\"*len(nums[0]),2)+1):\n            if i not in present:\n                \n                return format(i,\"0\"+\"{:02d}\".format(len(nums[0]))+\"b\")\n        return -1",
      "metadata": {
        "trusted": true
      },
      "execution_count": null,
      "outputs": []
    },
    {
      "cell_type": "markdown",
      "source": "**28. Implement strStr (E)**",
      "metadata": {}
    },
    {
      "cell_type": "code",
      "source": "class Solution:\n    def strStr(self, haystack: str, needle: str) -> int:\n        if needle == \"\":\n            return 0\n        for i in range(len(haystack)-len(needle)+1):\n            if haystack[i]==needle[0]:\n                r = True\n                k = i+1\n                for j in range(1,len(needle)):\n                    if haystack[k]!=needle[j]:\n                        r = False\n                        break\n                    k+=1\n                if r:\n                    return i\n        return -1",
      "metadata": {
        "trusted": true
      },
      "execution_count": null,
      "outputs": []
    },
    {
      "cell_type": "markdown",
      "source": "**35. Search Insert Position (E)**",
      "metadata": {}
    },
    {
      "cell_type": "code",
      "source": "class Solution:\n    def searchInsert(self, nums, target: int) -> int:\n        low = 0\n        high = len(nums)-1\n        mid = int((high+low)/2)\n        while low<=high:\n            if nums[mid] == target:\n                return mid\n            if nums[mid]<target:\n                low = mid+1\n            else:\n                high = mid+1\n            mid = int((high+low)/2)\n        if high<0:\n            return 0\n        elif low>len(nums)-1:\n            return len(nums)\n        return low",
      "metadata": {
        "trusted": true
      },
      "execution_count": null,
      "outputs": []
    }
  ]
}