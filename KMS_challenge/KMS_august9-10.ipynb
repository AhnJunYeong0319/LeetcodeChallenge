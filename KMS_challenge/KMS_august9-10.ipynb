{
  "metadata": {
    "language_info": {
      "codemirror_mode": {
        "name": "python",
        "version": 3
      },
      "file_extension": ".py",
      "mimetype": "text/x-python",
      "name": "python",
      "nbconvert_exporter": "python",
      "pygments_lexer": "ipython3",
      "version": "3.8"
    },
    "kernelspec": {
      "name": "python",
      "display_name": "Python (Pyodide)",
      "language": "python"
    }
  },
  "nbformat_minor": 4,
  "nbformat": 4,
  "cells": [
    {
      "cell_type": "markdown",
      "source": "# August 9-10",
      "metadata": {}
    },
    {
      "cell_type": "markdown",
      "source": "**994. Rotting Oranges (M)**",
      "metadata": {}
    },
    {
      "cell_type": "code",
      "source": "class Solution:\n    def orangesRotting(self, grid) -> int:\n        offset = [[1,0],[-1,0],[0,1],[0,-1]]\n        q = []\n        count = 0\n        fresh = 0\n        for i in range(len(grid)):\n            for j in range(len(grid[0])):\n                if grid[i][j] == 2:\n                    q.append([i,j])\n                if grid[i][j] == 1:\n                    fresh += 1\n        \n        while q and fresh>0:\n            for i in range(len(q)):\n                rot = q.pop(0)\n                for d in offset:\n                    newRow = rot[0]+d[0]\n                    newCol = rot[1]+d[1]\n                    if newRow<0 or newRow>=len(grid) or newCol<0 or newCol>=len(grid[0]):\n                        continue\n                    if grid[newRow][newCol] == 1:\n                        grid[newRow][newCol] = 2\n                        q.append([newRow,newCol])\n                        fresh-=1\n            count += 1\n        \n        if fresh:\n            return -1\n        return count\n",
      "metadata": {
        "trusted": true
      },
      "execution_count": null,
      "outputs": []
    },
    {
      "cell_type": "markdown",
      "source": "**169. Majority Element (E)**",
      "metadata": {}
    },
    {
      "cell_type": "code",
      "source": "class Solution:\n    def majorityElement(self, nums) -> int:\n        nums.sort()\n        count = 1\n        maxcnt = 1\n        element = nums[0]\n        for i in range(1, len(nums)):\n            if nums[i] == nums[i-1]:\n                count += 1\n                if count> maxcnt:\n                    maxcnt = count\n                    element = nums[i]\n            else:\n                count = 1\n        return element\n            \n            ",
      "metadata": {
        "trusted": true
      },
      "execution_count": null,
      "outputs": []
    },
    {
      "cell_type": "markdown",
      "source": "**67. Add Binary (E)**",
      "metadata": {}
    },
    {
      "cell_type": "code",
      "source": "class Solution:\n    def addBinary(self, a: str, b: str) -> str:\n        prev = 0\n        i = -1\n        j = -1\n        res = \"\"\n        while (i>=-len(a)) and (j>=-len(b)):\n            if a[i]==\"1\" and b[j]==\"1\":\n                if prev==1:\n                    res=\"1\"+res\n                else:\n                    res=\"0\"+res\n                    prev = 1\n            elif a[i]==\"0\" and b[j]==\"0\":\n                res=str(prev)+res\n                prev = 0\n            else:\n                if prev == 1:\n                    res= \"0\"+res\n                else:\n                    prev=0\n                    res=\"1\"+res\n            i-=1\n            j-=1\n        while i>=-len(a):\n            if a[i]==\"0\":\n                res = str(prev)+res\n                prev = 0\n            else:\n                if prev == 1:\n                    res = \"0\"+res\n                else:\n                    res = \"1\"+res\n                    prev = 0\n            i-=1\n        while j>=-len(b):\n            if b[j]==\"0\":\n                res = str(prev)+res\n                prev = 0\n            else:\n                if prev == 1:\n                    res = \"0\"+res\n                else:\n                    res = \"1\"+res\n                    prev = 0\n            j-=1\n        if prev == 1:\n            res = \"1\"+res\n        return res\n        ",
      "metadata": {
        "trusted": true
      },
      "execution_count": null,
      "outputs": []
    }
  ]
}