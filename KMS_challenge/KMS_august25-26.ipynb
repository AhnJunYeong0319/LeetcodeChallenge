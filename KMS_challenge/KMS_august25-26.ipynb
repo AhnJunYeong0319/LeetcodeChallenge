{
  "metadata": {
    "language_info": {
      "codemirror_mode": {
        "name": "python",
        "version": 3
      },
      "file_extension": ".py",
      "mimetype": "text/x-python",
      "name": "python",
      "nbconvert_exporter": "python",
      "pygments_lexer": "ipython3",
      "version": "3.8"
    },
    "kernelspec": {
      "name": "python",
      "display_name": "Python (Pyodide)",
      "language": "python"
    }
  },
  "nbformat_minor": 4,
  "nbformat": 4,
  "cells": [
    {
      "cell_type": "markdown",
      "source": "# August 25-26",
      "metadata": {}
    },
    {
      "cell_type": "markdown",
      "source": "**2016. Maximum Difference Between Increasing Elements (E)**",
      "metadata": {}
    },
    {
      "cell_type": "code",
      "source": "class Solution:\n    def maximumDifference(self, nums) -> int:\n        small = 0\n        large = 1\n        diff = small - large\n        \n        for i in range(1,len(nums)):\n            diff = max(diff, nums[large]-nums[small])\n            if nums[i]<nums[small]:\n                small = i\n                large = i+1\n            elif nums[i]>nums[large]:\n                large = i\n            \n                \n        \n        if diff<0:\n            return -1\n        return diff",
      "metadata": {
        "trusted": true
      },
      "execution_count": 2,
      "outputs": []
    },
    {
      "cell_type": "markdown",
      "source": "**2347. Best Poker Hand (E)**",
      "metadata": {}
    },
    {
      "cell_type": "code",
      "source": "class Solution:\n    def bestHand(self, ranks: List[int], suits: List[str]) -> str:\n        rdic = dict()\n        sdic = dict()\n        for i in range(5):\n            if ranks[i] in rdic:\n                rdic[ranks[i]]+=1\n            else:\n                rdic[ranks[i]]=1\n            if suits[i] in sdic:\n                sdic[suits[i]]+=1\n            else:\n                sdic[suits[i]]=1\n        for val in sdic.values():\n            if val == 5:\n                return \"Flush\"\n        if max(rdic.values()) >= 3:\n            return \"Three of a Kind\"\n        if max(rdic.values()) == 2:\n            return \"Pair\"\n        return \"High Card\"",
      "metadata": {},
      "execution_count": null,
      "outputs": []
    },
    {
      "cell_type": "markdown",
      "source": "**784. Letter Case Permutation (M)**",
      "metadata": {}
    },
    {
      "cell_type": "code",
      "source": "class Solution:\n    def letterCasePermutation(self, s: str) -> List[str]:\n        res = []\n        \n        def bt(ind, curr):\n            if ind == -1:\n                res.append(curr)\n                return\n            else:\n                if s[ind].isalpha():\n                    bt(ind-1, s[ind].lower()+curr)\n                    bt(ind-1, s[ind].upper()+curr)\n                else:\n                    bt(ind-1, s[ind]+curr)\n        bt(len(s)-1, \"\")\n        return res",
      "metadata": {},
      "execution_count": null,
      "outputs": []
    }
  ]
}