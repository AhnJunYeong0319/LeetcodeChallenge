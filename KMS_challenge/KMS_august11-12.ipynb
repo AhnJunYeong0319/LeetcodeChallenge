{
  "metadata": {
    "language_info": {
      "codemirror_mode": {
        "name": "python",
        "version": 3
      },
      "file_extension": ".py",
      "mimetype": "text/x-python",
      "name": "python",
      "nbconvert_exporter": "python",
      "pygments_lexer": "ipython3",
      "version": "3.8"
    },
    "kernelspec": {
      "name": "python",
      "display_name": "Python (Pyodide)",
      "language": "python"
    }
  },
  "nbformat_minor": 4,
  "nbformat": 4,
  "cells": [
    {
      "cell_type": "markdown",
      "source": "# August 11-12 ",
      "metadata": {}
    },
    {
      "cell_type": "markdown",
      "source": "**206. Reverse Linked List (E)**",
      "metadata": {}
    },
    {
      "cell_type": "markdown",
      "source": "Straightforward SLL problem: the idea is to reverse the direction of pointers of each node in traversal.",
      "metadata": {}
    },
    {
      "cell_type": "code",
      "source": "class Solution:\n    def reverseList(self, head: Optional[ListNode]) -> Optional[ListNode]:\n        curr = head\n        prev = None\n        while curr != None:\n            temp = curr.next\n            curr.next = prev\n            prev = curr\n            curr = temp\n        return prev\n            ",
      "metadata": {
        "trusted": true
      },
      "execution_count": null,
      "outputs": []
    },
    {
      "cell_type": "markdown",
      "source": "**46. Permutations (M)**",
      "metadata": {}
    },
    {
      "cell_type": "markdown",
      "source": "Backtracking - very similar to Combinations question",
      "metadata": {}
    },
    {
      "cell_type": "code",
      "source": "class Solution:\n    def permute(self, nums):\n        \n        def recurse(r,nums,path):\n            if nums==[]:\n                r.append(path)\n                return\n            for i in range(len(nums)):\n                recurse(r,nums[:i]+nums[i+1:],path+[nums[i]])\n        r = []\n        recurse(r,nums,[])\n        return r",
      "metadata": {
        "trusted": true
      },
      "execution_count": null,
      "outputs": []
    },
    {
      "cell_type": "markdown",
      "source": "**83. Remove Duplicates from Sorted List (E)**",
      "metadata": {}
    },
    {
      "cell_type": "code",
      "source": "class Solution:\n    def deleteDuplicates(self, head: Optional[ListNode]) -> Optional[ListNode]:\n        if not head:\n            return None\n        curr = head\n        while curr != None:\n            nextn = curr.next\n            while nextn != None and nextn.val == curr.val:\n                nextn = nextn.next\n            curr.next = nextn\n            curr = nextn\n        return head\n            ",
      "metadata": {
        "trusted": true
      },
      "execution_count": null,
      "outputs": []
    }
  ]
}