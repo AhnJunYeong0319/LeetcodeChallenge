{
  "metadata": {
    "language_info": {
      "codemirror_mode": {
        "name": "python",
        "version": 3
      },
      "file_extension": ".py",
      "mimetype": "text/x-python",
      "name": "python",
      "nbconvert_exporter": "python",
      "pygments_lexer": "ipython3",
      "version": "3.8"
    },
    "kernelspec": {
      "name": "python",
      "display_name": "Python (Pyodide)",
      "language": "python"
    }
  },
  "nbformat_minor": 4,
  "nbformat": 4,
  "cells": [
    {
      "cell_type": "markdown",
      "source": "# August 28-29",
      "metadata": {}
    },
    {
      "cell_type": "markdown",
      "source": "**124. Binary Tree Maximum Path Sum (H)**",
      "metadata": {}
    },
    {
      "cell_type": "code",
      "source": "class Solution:\n    def maxPathSum(self, root: TreeNode) -> int:\n        res = float('-inf')\n        def dfs(node):\n            nonlocal res\n            if not node.left and not node.right:\n                if node.val>res:\n                    res = node.val\n                return node.val\n            left,right = 0,0\n            if node.left:\n                left=dfs(node.left)\n            if node.right:\n                right=dfs(node.right)\n            if node.left and node.right:\n                res = max(res,node.val+left+right,left+node.val,right+node.val,left,right,node.val)\n                return max(node.val+left,node.val+right,node.val)\n            elif node.left:\n                res = max(res,node.val+left,left,node.val)\n                return max(node.val+left,node.val)\n            res = max(res,node.val+right,right,node.val)\n            return max(node.val+right,node.val)\n            \n        dfs(root)\n        return res",
      "metadata": {},
      "execution_count": null,
      "outputs": []
    }
  ]
}