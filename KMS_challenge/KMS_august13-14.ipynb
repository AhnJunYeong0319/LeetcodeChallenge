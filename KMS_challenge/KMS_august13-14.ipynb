{
  "metadata": {
    "language_info": {
      "codemirror_mode": {
        "name": "python",
        "version": 3
      },
      "file_extension": ".py",
      "mimetype": "text/x-python",
      "name": "python",
      "nbconvert_exporter": "python",
      "pygments_lexer": "ipython3",
      "version": "3.8"
    },
    "kernelspec": {
      "name": "python",
      "display_name": "Python (Pyodide)",
      "language": "python"
    }
  },
  "nbformat_minor": 4,
  "nbformat": 4,
  "cells": [
    {
      "cell_type": "markdown",
      "source": "# August 13-14",
      "metadata": {}
    },
    {
      "cell_type": "markdown",
      "source": "**70. Climbing Stairs (E)**",
      "metadata": {}
    },
    {
      "cell_type": "code",
      "source": "class Solution:\n    def climbStairs(self, n: int) -> int:\n        dp = [1,2]+[0 for _ in range(n-2)]\n        for i in range(2,n):\n            dp[i]=dp[i-1]+dp[i-2]\n        return dp[n-1]\n            ",
      "metadata": {
        "trusted": true
      },
      "execution_count": null,
      "outputs": []
    },
    {
      "cell_type": "markdown",
      "source": "**198. House Robber (M)**",
      "metadata": {}
    },
    {
      "cell_type": "code",
      "source": "class Solution:\n    def rob(self, nums) -> int:\n        if len(nums) == 1:\n            return nums[0]\n        dp = [nums[0], max(nums[0],nums[1])]\n        for i in range(2, len(nums)):\n            dp.append(max(dp[i-1],dp[i-2]+nums[i]))\n        return dp[-1]",
      "metadata": {
        "trusted": true
      },
      "execution_count": null,
      "outputs": []
    },
    {
      "cell_type": "markdown",
      "source": "**121. Best Time to Buy and Sell Stock (E)**",
      "metadata": {}
    },
    {
      "cell_type": "code",
      "source": "class Solution:\n    def maxProfit(self, prices) -> int:\n        if len(prices) == 1:\n            return 0\n        profit = 0\n        mini = prices[0]\n        for i in range(1,len(prices)):\n            if prices[i]-mini>profit:\n                profit = prices[i] - mini\n            if prices[i]<mini:\n                mini = prices[i]\n        return profit",
      "metadata": {},
      "execution_count": null,
      "outputs": []
    }
  ]
}