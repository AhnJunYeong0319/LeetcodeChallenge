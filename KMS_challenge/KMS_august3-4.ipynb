{
  "metadata": {
    "language_info": {
      "codemirror_mode": {
        "name": "python",
        "version": 3
      },
      "file_extension": ".py",
      "mimetype": "text/x-python",
      "name": "python",
      "nbconvert_exporter": "python",
      "pygments_lexer": "ipython3",
      "version": "3.8"
    },
    "kernelspec": {
      "name": "python",
      "display_name": "Python (Pyodide)",
      "language": "python"
    }
  },
  "nbformat_minor": 4,
  "nbformat": 4,
  "cells": [
    {
      "cell_type": "markdown",
      "source": "# August 3-4",
      "metadata": {}
    },
    {
      "cell_type": "markdown",
      "source": "**542. 01 Matrix (M)**",
      "metadata": {}
    },
    {
      "cell_type": "markdown",
      "source": "DP solution: first we fill out the memoization array by traversing the matrix from to to bottom, then bottom to top",
      "metadata": {}
    },
    {
      "cell_type": "code",
      "source": "import math\nclass Solution:\n    def updateMatrix(self, mat):\n        dp = [[math.inf for i in range(len(mat[0]))] for j in range(len(mat))]\n        for i in range(len(mat)):\n            for j in range(len(mat[0])):\n                if mat[i][j] == 0:\n                    dp[i][j] = 0\n                else:\n                    if i>0 and j==0:\n                        dp[i][j] = min(dp[i-1][j]+1, dp[i][j])\n                    elif j>0 and i==0:\n                        dp[i][j] = min(dp[i][j-1]+1, dp[i][j])\n                    elif i>0 and j>0:\n                        dp[i][j] = min(min(dp[i-1][j]+1, dp[i][j-1]+1), dp[i][j])\n        for i in range(len(mat)-1,-1,-1):\n            for j in range(len(mat[0])-1,-1,-1):\n                if mat[i][j] == 0:\n                    dp[i][j] = 0\n                else:\n                    if i<len(mat)-1 and j == len(mat[0])-1:\n                        dp[i][j] = min(dp[i+1][j]+1, dp[i][j])\n                    if j<len(mat[0])-1 and i == len(mat)-1:\n                        dp[i][j] = min(dp[i][j+1]+1, dp[i][j])\n                    elif i<len(mat)-1 and j< len(mat[0])-1:\n                        dp[i][j] = min(min(dp[i+1][j]+1, dp[i][j+1]+1),dp[i][j])\n        return dp\n    ",
      "metadata": {},
      "execution_count": null,
      "outputs": []
    },
    {
      "cell_type": "markdown",
      "source": "**1539. Kth Missing Positive Number (E)**",
      "metadata": {}
    },
    {
      "cell_type": "code",
      "source": "class Solution:\n    def findKthPositive(self, arr, k: int) -> int:\n        j=0\n        prev = 1\n        for i in range(len(arr)):\n            for l in range(prev,arr[i]):\n                j+=1\n                if j==k:\n                    return l\n            prev = arr[i]+1\n        while True:\n            j+=1\n            if j==k:\n                return prev\n            prev+=1",
      "metadata": {
        "trusted": true
      },
      "execution_count": 5,
      "outputs": []
    },
    {
      "cell_type": "markdown",
      "source": "**404. Sum of Left Leaves (E)**",
      "metadata": {}
    },
    {
      "cell_type": "code",
      "source": "class Solution:\n    def sumOfLeftLeaves(self, root: TreeNode) -> int:\n        if root == None:\n            return 0\n        def recurse(root, res):\n            curr = res\n            if root.left != None:\n                if root.left.left == None and root.left.right == None:\n                    curr+=root.left.val\n                curr = recurse(root.left, curr)\n            if root.right != None:\n                curr = recurse(root.right, curr)\n            return curr\n        return recurse(root,0)\n                ",
      "metadata": {
        "trusted": true
      },
      "execution_count": 6,
      "outputs": [
        {
          "ename": "<class 'NameError'>",
          "evalue": "name 'TreeNode' is not defined",
          "traceback": [
            "\u001b[0;31m---------------------------------------------------------------------------\u001b[0m",
            "\u001b[0;31mNameError\u001b[0m                                 Traceback (most recent call last)",
            "Input \u001b[0;32mIn [6]\u001b[0m, in \u001b[0;36m<cell line: 1>\u001b[0;34m()\u001b[0m\n\u001b[0;32m----> 1\u001b[0m \u001b[38;5;28;01mclass\u001b[39;00m \u001b[38;5;21;01mSolution\u001b[39;00m:\n\u001b[1;32m      2\u001b[0m     \u001b[38;5;28;01mdef\u001b[39;00m \u001b[38;5;21msumOfLeftLeaves\u001b[39m(\u001b[38;5;28mself\u001b[39m, root: TreeNode) \u001b[38;5;241m-\u001b[39m\u001b[38;5;241m>\u001b[39m \u001b[38;5;28mint\u001b[39m:\n\u001b[1;32m      3\u001b[0m         \u001b[38;5;28;01mif\u001b[39;00m root \u001b[38;5;241m==\u001b[39m \u001b[38;5;28;01mNone\u001b[39;00m:\n",
            "Input \u001b[0;32mIn [6]\u001b[0m, in \u001b[0;36mSolution\u001b[0;34m()\u001b[0m\n\u001b[1;32m      1\u001b[0m \u001b[38;5;28;01mclass\u001b[39;00m \u001b[38;5;21;01mSolution\u001b[39;00m:\n\u001b[0;32m----> 2\u001b[0m     \u001b[38;5;28;01mdef\u001b[39;00m \u001b[38;5;21msumOfLeftLeaves\u001b[39m(\u001b[38;5;28mself\u001b[39m, root: \u001b[43mTreeNode\u001b[49m) \u001b[38;5;241m-\u001b[39m\u001b[38;5;241m>\u001b[39m \u001b[38;5;28mint\u001b[39m:\n\u001b[1;32m      3\u001b[0m         \u001b[38;5;28;01mif\u001b[39;00m root \u001b[38;5;241m==\u001b[39m \u001b[38;5;28;01mNone\u001b[39;00m:\n\u001b[1;32m      4\u001b[0m             \u001b[38;5;28;01mreturn\u001b[39;00m \u001b[38;5;241m0\u001b[39m\n",
            "\u001b[0;31mNameError\u001b[0m: name 'TreeNode' is not defined"
          ],
          "output_type": "error"
        }
      ]
    }
  ]
}