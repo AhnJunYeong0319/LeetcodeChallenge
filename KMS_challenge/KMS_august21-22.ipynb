{
  "metadata": {
    "language_info": {
      "codemirror_mode": {
        "name": "python",
        "version": 3
      },
      "file_extension": ".py",
      "mimetype": "text/x-python",
      "name": "python",
      "nbconvert_exporter": "python",
      "pygments_lexer": "ipython3",
      "version": "3.8"
    },
    "kernelspec": {
      "name": "python",
      "display_name": "Python (Pyodide)",
      "language": "python"
    }
  },
  "nbformat_minor": 4,
  "nbformat": 4,
  "cells": [
    {
      "cell_type": "markdown",
      "source": "# August 21-22",
      "metadata": {}
    },
    {
      "cell_type": "markdown",
      "source": "**141. Linked List Cycle (E)**",
      "metadata": {}
    },
    {
      "cell_type": "markdown",
      "source": "Classic turtle-rabbit solution",
      "metadata": {}
    },
    {
      "cell_type": "code",
      "source": "class Solution:\n    def hasCycle(self, head) -> bool:\n        if not head:\n            return False\n        slow = head\n        fast = head.next\n        while slow!=fast:\n            if not fast:\n                return False\n            if not fast.next:\n                return False\n            if not fast.next.next:\n                return False\n            fast = fast.next.next\n            slow = slow.next\n        return True",
      "metadata": {
        "trusted": true
      },
      "execution_count": 2,
      "outputs": []
    },
    {
      "cell_type": "markdown",
      "source": "**144. Binary Tree Preorder Traversal (E)**",
      "metadata": {}
    },
    {
      "cell_type": "code",
      "source": "class Solution:\n    def preorderTraversal(self, root: Optional[TreeNode]) -> List[int]:\n        res = []\n        def dfs(root):\n            if not root:\n                return\n            res.append(root.val)\n            dfs(root.left)\n            dfs(root.right)\n        dfs(root)\n        return res",
      "metadata": {},
      "execution_count": null,
      "outputs": []
    },
    {
      "cell_type": "markdown",
      "source": "**54. Spiral Matrix (M)**",
      "metadata": {}
    },
    {
      "cell_type": "markdown",
      "source": "jot",
      "metadata": {}
    },
    {
      "cell_type": "code",
      "source": "class Solution:\n    def spiralOrder(self, matrix: List[List[int]]) -> List[int]:\n        direction = [[0,1],[1,0],[0,-1],[1,0]] #right, down, left, up\n        boundary = [len(matrix[0]),len(matrix),-1,-1]\n        res = []\n        i = 0\n        j = 0\n        currdir = 0\n        for e in range(len(matrix)*len(matrix[0])):\n            res.append(matrix[i][j])\n            if currdir == 0:\n                if j+1==boundary[0]:\n                    currdir = 1\n                    boundary[3] += 1\n                    i += 1\n                else:\n                    j += 1\n            elif currdir == 1:\n                if i+1==boundary[1]:\n                    currdir = 2\n                    boundary[0] -= 1\n                    j-=1\n                else:\n                    i+=1\n            elif currdir == 2:\n                if j-1==boundary[2]:\n                    currdir = 3\n                    boundary[1] -= 1\n                    i-=1\n                else:\n                    j-=1\n            else:\n                if i-1==boundary[3]:\n                    currdir = 0\n                    boundary[2] += 1\n                    j+=1\n                else:\n                    i-=1\n        return res",
      "metadata": {},
      "execution_count": null,
      "outputs": []
    }
  ]
}