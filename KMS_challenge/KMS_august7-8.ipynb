{
  "metadata": {
    "language_info": {
      "codemirror_mode": {
        "name": "python",
        "version": 3
      },
      "file_extension": ".py",
      "mimetype": "text/x-python",
      "name": "python",
      "nbconvert_exporter": "python",
      "pygments_lexer": "ipython3",
      "version": "3.8"
    },
    "kernelspec": {
      "name": "python",
      "display_name": "Python (Pyodide)",
      "language": "python"
    }
  },
  "nbformat_minor": 4,
  "nbformat": 4,
  "cells": [
    {
      "cell_type": "markdown",
      "source": "# August 7-8",
      "metadata": {}
    },
    {
      "cell_type": "markdown",
      "source": "**62. Unique Paths (M)**",
      "metadata": {}
    },
    {
      "cell_type": "code",
      "source": "class Solution:\n    def uniquePaths(self, m: int, n: int) -> int:\n        board = [[0 for _ in range(n)] for _ in range(m)]\n        board[0][0]=1\n        for i in range(len(board)):\n            for j in range(len(board[0])):\n                if i-1!=-1:\n                    board[i][j]+=board[i-1][j]\n                if j-1!=-1:\n                    board[i][j]+=board[i][j-1]\n        return board[m-1][n-1]\n                    ",
      "metadata": {
        "trusted": true
      },
      "execution_count": null,
      "outputs": []
    },
    {
      "cell_type": "markdown",
      "source": "**58. Length of Last Word (E)**",
      "metadata": {}
    },
    {
      "cell_type": "code",
      "source": "class Solution:\n    def lengthOfLastWord(self, s: str) -> int:\n        slist = s.split()\n        if slist == []:\n            return 0\n        return len(slist[-1])\n                ",
      "metadata": {
        "trusted": true
      },
      "execution_count": null,
      "outputs": []
    },
    {
      "cell_type": "markdown",
      "source": "**268. Missing Number (E)**",
      "metadata": {}
    },
    {
      "cell_type": "code",
      "source": "class Solution:\n    def missingNumber(self, nums) -> int:\n        expected=0\n        for i in range(len(nums)+1):\n            expected+=i\n        actual = 0\n        for i in nums:\n            actual+=i\n        return expected-actual",
      "metadata": {
        "trusted": true
      },
      "execution_count": null,
      "outputs": []
    }
  ]
}