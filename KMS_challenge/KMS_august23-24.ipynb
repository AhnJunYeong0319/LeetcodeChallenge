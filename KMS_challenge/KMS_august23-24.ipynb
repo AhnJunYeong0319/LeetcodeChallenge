{
  "metadata": {
    "language_info": {
      "codemirror_mode": {
        "name": "python",
        "version": 3
      },
      "file_extension": ".py",
      "mimetype": "text/x-python",
      "name": "python",
      "nbconvert_exporter": "python",
      "pygments_lexer": "ipython3",
      "version": "3.8"
    },
    "kernelspec": {
      "name": "python",
      "display_name": "Python (Pyodide)",
      "language": "python"
    }
  },
  "nbformat_minor": 4,
  "nbformat": 4,
  "cells": [
    {
      "cell_type": "markdown",
      "source": "# August 23-24",
      "metadata": {}
    },
    {
      "cell_type": "markdown",
      "source": "**118. Pascal's Triangle (E)**",
      "metadata": {}
    },
    {
      "cell_type": "code",
      "source": "class Solution:\n    def generate(self, numRows: int):\n        if numRows == 1:\n            return [[1]]\n        res = [[1],[1,1]]\n        for i in range(2,numRows):\n            newarr = [1]\n            for j in range(1,len(res[i-1])):\n                newarr.append(res[i-1][j-1]+res[i-1][j])\n            newarr.append(1)\n            res.append(newarr)\n        return res",
      "metadata": {
        "trusted": true
      },
      "execution_count": 1,
      "outputs": []
    },
    {
      "cell_type": "markdown",
      "source": "**119. Pascal's Triangle II (E)**",
      "metadata": {}
    },
    {
      "cell_type": "code",
      "source": "class Solution:\n    def getRow(self, rowIndex: int)\n        if not rowIndex:\n            return [1]\n        curr = [1,1]\n        for i in range(2,rowIndex+1):\n            newarr = [1]\n            for j in range(1,i):\n                newarr.append(curr[j]+curr[j-1])\n            newarr.append(1)\n            curr = newarr\n        return curr",
      "metadata": {},
      "execution_count": null,
      "outputs": []
    },
    {
      "cell_type": "markdown",
      "source": "**49. Group Anagrams (M)**",
      "metadata": {}
    },
    {
      "cell_type": "code",
      "source": "class Solution:\n    def groupAnagrams(self, strs):\n        r = []\n        track = dict()\n        for i in range(len(strs)):\n            a = \"\".join(sorted(strs[i]))\n            if a in track:\n                r[track[a]].append(strs[i])\n            else:\n                track[a] = len(r)\n                r.append([strs[i]])\n        return r\n                ",
      "metadata": {
        "trusted": true
      },
      "execution_count": 3,
      "outputs": []
    }
  ]
}