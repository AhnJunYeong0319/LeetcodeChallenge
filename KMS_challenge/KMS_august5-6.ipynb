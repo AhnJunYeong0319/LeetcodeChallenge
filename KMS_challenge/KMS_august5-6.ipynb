{
  "metadata": {
    "language_info": {
      "codemirror_mode": {
        "name": "python",
        "version": 3
      },
      "file_extension": ".py",
      "mimetype": "text/x-python",
      "name": "python",
      "nbconvert_exporter": "python",
      "pygments_lexer": "ipython3",
      "version": "3.8"
    },
    "kernelspec": {
      "name": "python",
      "display_name": "Python (Pyodide)",
      "language": "python"
    }
  },
  "nbformat_minor": 4,
  "nbformat": 4,
  "cells": [
    {
      "cell_type": "markdown",
      "source": "# August 5-6",
      "metadata": {}
    },
    {
      "cell_type": "markdown",
      "source": "**718. Maximum Length of Repeated Subarray (M)**",
      "metadata": {}
    },
    {
      "cell_type": "markdown",
      "source": "DP problem with 2D array. More like E than M",
      "metadata": {}
    },
    {
      "cell_type": "code",
      "source": "class Solution:\n    def findLength(self, A, B) -> int:\n        dp = [[0 for _ in range (len(A)+1)] for _ in range (len(B)+1)]\n        r = 0\n        for i in range(1,len(B)+1):\n            for j in range(1,len(A)+1):\n                if A[j-1]==B[i-1]:\n                    dp[i][j]=dp[i-1][j-1]+1\n                    if dp[i][j]>r:\n                        r = dp[i][j]\n        return r\n                    ",
      "metadata": {
        "trusted": true
      },
      "execution_count": null,
      "outputs": []
    },
    {
      "cell_type": "markdown",
      "source": "**1287. Element Appearing More Than 25% In Sorted Array (E)**",
      "metadata": {}
    },
    {
      "cell_type": "code",
      "source": "class Solution:\n    def findSpecialInteger(self, arr) -> int:\n        m = len(arr)//4\n        for i in range(len(arr)):\n            if arr[i]==arr[i+m]:\n                return arr[i]\n            ",
      "metadata": {
        "trusted": true
      },
      "execution_count": null,
      "outputs": []
    },
    {
      "cell_type": "markdown",
      "source": "**392. Is Subsequence (E)**",
      "metadata": {}
    },
    {
      "cell_type": "code",
      "source": "class Solution:\n    def isSubsequence(self, s: str, t: str) -> bool:\n        i,j=0,0\n        while i<len(s) and j<len(t):\n            if s[i]==t[j]:\n                i+=1\n            j+=1\n        if i==len(s):\n            return True\n        return False\n                ",
      "metadata": {
        "trusted": true
      },
      "execution_count": null,
      "outputs": []
    },
    {
      "cell_type": "code",
      "source": "",
      "metadata": {},
      "execution_count": null,
      "outputs": []
    }
  ]
}