{
  "nbformat": 4,
  "nbformat_minor": 0,
  "metadata": {
    "colab": {
      "provenance": [],
      "collapsed_sections": []
    },
    "kernelspec": {
      "name": "python3",
      "display_name": "Python 3"
    },
    "language_info": {
      "name": "python"
    }
  },
  "cells": [
    {
      "cell_type": "markdown",
      "source": [
        "# September"
      ],
      "metadata": {
        "id": "D7sZXiCD-D_C"
      }
    },
    {
      "cell_type": "markdown",
      "source": [
        "## 10th"
      ],
      "metadata": {
        "id": "znSLT4US-G1U"
      }
    },
    {
      "cell_type": "markdown",
      "source": [
        "### (H) 52. N-Queens II"
      ],
      "metadata": {
        "id": "EjjEp7eNXqii"
      }
    },
    {
      "cell_type": "markdown",
      "source": [
        "82 / 40"
      ],
      "metadata": {
        "id": "bZOoFBSRXykh"
      }
    },
    {
      "cell_type": "code",
      "source": [
        "n = 4\n",
        "from typing import List\n",
        "\n",
        "class Solution:\n",
        "    def totalNQueens(self, n: int) -> List[List[str]]:\n",
        "\n",
        "        self.cnt = 0\n",
        "        def dfs(possiblePos, board, n):\n",
        "\n",
        "          if n == len(board): \n",
        "            self.cnt += 1\n",
        "            return\n",
        "\n",
        "          for i in possiblePos:\n",
        "            if i not in board:\n",
        "\n",
        "              flag = True\n",
        "              for j in range(len(board)):\n",
        "\n",
        "                if (j + 1) == abs(i - board[-1-j]):\n",
        "                  flag = False\n",
        "                  break # added\n",
        "\n",
        "              if flag == True:\n",
        "                dfs(possiblePos, board + [i], n)\n",
        "\n",
        "        dfs([i for i in range(n)], [], n)\n",
        "        return self.cnt\n",
        "\n",
        "Solution().totalNQueens(n)"
      ],
      "metadata": {
        "id": "TCjDRs2kVxdy",
        "colab": {
          "base_uri": "https://localhost:8080/"
        },
        "outputId": "5d723381-be8d-4f0c-b231-1eaa8d1289b9"
      },
      "execution_count": null,
      "outputs": [
        {
          "output_type": "execute_result",
          "data": {
            "text/plain": [
              "2"
            ]
          },
          "metadata": {},
          "execution_count": 3
        }
      ]
    },
    {
      "cell_type": "markdown",
      "source": [
        "90 / 80"
      ],
      "metadata": {
        "id": "q8ayu_T1kJrt"
      }
    },
    {
      "cell_type": "code",
      "source": [
        "class Solution:\n",
        "    def totalNQueens(self, n):\n",
        "\n",
        "        self.cnt = 0\n",
        "        def dfs(queens, ddiff, ssum):\n",
        "            p = len(queens)\n",
        "\n",
        "            if p == n:\n",
        "                self.cnt += 1\n",
        "                return\n",
        "\n",
        "\n",
        "            for q in range(n):\n",
        "\n",
        "                if q in queens or p - q in ddiff or p + q in ssum: continue\n",
        "                dfs(queens + [q],\n",
        "                    ddiff + [p - q],\n",
        "                    ssum + [p + q])\n",
        "        dfs([], [], [])\n",
        "        return self.cnt"
      ],
      "metadata": {
        "id": "2HC_tXy8Vxml"
      },
      "execution_count": null,
      "outputs": []
    },
    {
      "cell_type": "markdown",
      "source": [
        "### (M) 1996. The Number of Weak Characters in the Game ★★"
      ],
      "metadata": {
        "id": "1oQ-GOsXMkPB"
      }
    },
    {
      "cell_type": "markdown",
      "source": [
        "5 / 63"
      ],
      "metadata": {
        "id": "HBxgxWjnvrGg"
      }
    },
    {
      "cell_type": "code",
      "source": [
        "from typing import List\n",
        "#properties = [[1,5],[10,4],[4,3]]\n",
        "#properties = [[1,1],[2,1],[2,2],[1,2]]\n",
        "#properties = [[2,2],[3,3]]\n",
        "#properties = [[5,5],[6,3],[3,6]]\n",
        "properties = [[7,7],[1,2],[9,7],[7,3],[3,10],[9,8],[8,10],[4,3],[1,5],[1,5]] # ans : 6\n",
        "\n",
        "class Solution:\n",
        "    def numberOfWeakCharacters(self, properties: List[List[int]]) -> int:\n",
        "\n",
        "      properties.sort(key = lambda x : (-x[0], x[1]))\n",
        "      print(properties)\n",
        "\n",
        "      ans = 0\n",
        "      curr_max = 0\n",
        "        \n",
        "      for attack, defense in properties:\n",
        "          if defense < curr_max:\n",
        "              ans += 1\n",
        "          else:\n",
        "              curr_max = defense\n",
        "\n",
        "      return ans\n",
        "\n",
        "Solution().numberOfWeakCharacters(properties)"
      ],
      "metadata": {
        "id": "pPadeYVa3WsJ"
      },
      "execution_count": null,
      "outputs": []
    },
    {
      "cell_type": "markdown",
      "source": [
        "From LeetCode Solution"
      ],
      "metadata": {
        "id": "gl4DTxXpwdxD"
      }
    },
    {
      "cell_type": "code",
      "source": [
        "class Solution:\n",
        "    def numberOfWeakCharacters(self, properties: List[List[int]]) -> int:\n",
        "        properties.sort(key=lambda x:(-x[0],x[1]))\n",
        "        mxattack=properties[0][0]\n",
        "        mxdefense=properties[0][1]\n",
        "        count=0\n",
        "\n",
        "        for i in range(1,len(properties)):\n",
        "\n",
        "            if properties[i][0] < mxattack and properties[i][1] < mxdefense:\n",
        "                count+=1\n",
        "\n",
        "            else:\n",
        "                mxattack=properties[i][0]\n",
        "                mxdefense=properties[i][1]\n",
        "        return count"
      ],
      "metadata": {
        "id": "HWDPQUgjthH3"
      },
      "execution_count": null,
      "outputs": []
    }
  ]
}