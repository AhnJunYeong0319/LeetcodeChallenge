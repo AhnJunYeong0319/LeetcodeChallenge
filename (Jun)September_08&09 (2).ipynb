{
  "nbformat": 4,
  "nbformat_minor": 0,
  "metadata": {
    "colab": {
      "provenance": [],
      "collapsed_sections": []
    },
    "kernelspec": {
      "name": "python3",
      "display_name": "Python 3"
    },
    "language_info": {
      "name": "python"
    }
  },
  "cells": [
    {
      "cell_type": "markdown",
      "source": [
        "# September"
      ],
      "metadata": {
        "id": "D7sZXiCD-D_C"
      }
    },
    {
      "cell_type": "markdown",
      "source": [
        "## 8th"
      ],
      "metadata": {
        "id": "znSLT4US-G1U"
      }
    },
    {
      "cell_type": "markdown",
      "source": [
        "### (H) 480. Sliding Window Median"
      ],
      "metadata": {
        "id": "WCA8WjgaV1bT"
      }
    },
    {
      "cell_type": "markdown",
      "source": [
        "※ My solutions are all memory-efficient but too slow :c"
      ],
      "metadata": {
        "id": "KdV-Uc9dFz0P"
      }
    },
    {
      "cell_type": "markdown",
      "source": [
        "I thought it's gon be time limit exceeded but ... - 5 (9300ms) / 100"
      ],
      "metadata": {
        "id": "c1gK9p0UZl23"
      }
    },
    {
      "cell_type": "code",
      "source": [
        "import statistics\n",
        "from typing import List\n",
        "\n",
        "nums = [1,3,-1,-3,5,3,6,7]\n",
        "k = 3\n",
        "\n",
        "class Solution:\n",
        "    def medianSlidingWindow(self, nums: List[int], k: int) -> List[float]:\n",
        "        return [ statistics.median(nums[i:i+k]) for i in range(len(nums) - (k - 1))] \n",
        "\n",
        "Solution().medianSlidingWindow(nums, k)"
      ],
      "metadata": {
        "colab": {
          "base_uri": "https://localhost:8080/"
        },
        "id": "eOEa16T1XpIS",
        "outputId": "869df1ae-fcff-414c-ae35-6191c6565b58"
      },
      "execution_count": null,
      "outputs": [
        {
          "output_type": "execute_result",
          "data": {
            "text/plain": [
              "[1, -1, -1, 3, 5, 6]"
            ]
          },
          "metadata": {},
          "execution_count": 12
        }
      ]
    },
    {
      "cell_type": "markdown",
      "source": [
        "Let's make it faster using ```iter``` and ```next``` - 9 (7300ms) / 96"
      ],
      "metadata": {
        "id": "atzVRxHLaTdl"
      }
    },
    {
      "cell_type": "code",
      "source": [
        "from timeit import Timer\n",
        "import statistics\n",
        "from typing import List\n",
        "\n",
        "nums = [1,3,-1,-3,5,3,6,7]\n",
        "k = 3\n",
        "\n",
        "def medianSlidingWindow(nums: List[int], k: int) -> List[float]:\n",
        "    length = len(nums) - (k - 1)\n",
        "    tmp = iter( nums[i:i+k] for i in range(length))\n",
        "    return [statistics.median(next(tmp)) for i in range(length)]\n",
        "\n",
        "#medianSlidingWindow(nums, k)\n",
        "\n",
        "Timer(lambda : medianSlidingWindow(nums, k)).timeit()"
      ],
      "metadata": {
        "id": "NroPjzr4bqnc",
        "colab": {
          "base_uri": "https://localhost:8080/"
        },
        "outputId": "115f5b1f-9551-46f4-b09c-74aafe5d680c"
      },
      "execution_count": null,
      "outputs": [
        {
          "output_type": "execute_result",
          "data": {
            "text/plain": [
              "4.799045387999968"
            ]
          },
          "metadata": {},
          "execution_count": 8
        }
      ]
    },
    {
      "cell_type": "markdown",
      "source": [
        "Still can be faster? SortedArray solution from [LeetCode discussion](https://leetcode.com/problems/sliding-window-median/discuss/96337/Python-SortedArray-(beats-100)-and-2-Heap(beats-90)-solution) - 63 / 76"
      ],
      "metadata": {
        "id": "UyhUpmQUFN4h"
      }
    },
    {
      "cell_type": "code",
      "source": [
        "from timeit import Timer\n",
        "import statistics\n",
        "from typing import List\n",
        "from bisect import insort, bisect\n",
        "\n",
        "nums = [1,3,-1,-3,5,3,6,7]\n",
        "k = 3\n",
        "\n",
        "\n",
        "def medianSlidingWindow(nums, k):\n",
        "        win, rv = nums[:k], []\n",
        "        win.sort()\n",
        "        odd = k%2\n",
        "        for i,n in enumerate(nums[k:],k):\n",
        "            rv.append((win[k//2]+win[k//2-1])/2. if not odd else win[(k-1)//2]*1.)\n",
        "            win.pop(bisect(win, nums[i-k])-1) # <<< bisect is faster than .remove()\n",
        "            insort(win, nums[i])\n",
        "        rv.append((win[k//2]+win[k//2-1])/2. if not odd else win[(k-1)//2]*1.)\n",
        "        return rv\n",
        "\n",
        "#medianSlidingWindow(nums , k)\n",
        "\n",
        "Timer(lambda : medianSlidingWindow(nums, k)).timeit()"
      ],
      "metadata": {
        "colab": {
          "base_uri": "https://localhost:8080/"
        },
        "id": "5qOh84x4FMAd",
        "outputId": "a5e72b6f-eb04-44b9-ff25-07f1e226ae25"
      },
      "execution_count": null,
      "outputs": [
        {
          "output_type": "execute_result",
          "data": {
            "text/plain": [
              "3.4194712329999675"
            ]
          },
          "metadata": {},
          "execution_count": 16
        }
      ]
    },
    {
      "cell_type": "markdown",
      "source": [
        "## 9th"
      ],
      "metadata": {
        "id": "lz5o9YAq-JA_"
      }
    },
    {
      "cell_type": "markdown",
      "source": [
        "### (H) 51. N-Queens"
      ],
      "metadata": {
        "id": "EjjEp7eNXqii"
      }
    },
    {
      "cell_type": "markdown",
      "source": [
        "Key algorithm!"
      ],
      "metadata": {
        "id": "m1vzcSw8Xy54"
      }
    },
    {
      "cell_type": "code",
      "source": [
        "def solveNQueens(n):\n",
        "\n",
        "  res = []\n",
        "  def dfs(possiblePos, board, n): # possiblePos means just possible position list in a column-wise term.\n",
        "                                  # board means a '1'D list for used-so-far positions at the certain dfs call. # Note that board doesn't have to be 2D list since only one queen is possible at each row.\n",
        "                                  # n means the grid size\n",
        "\n",
        "    if n == len(board): # this means that board has been completed through all the conditions.\n",
        "      res.append(board)\n",
        "      return\n",
        "    \n",
        "    for i in possiblePos:\n",
        "      if i not in board: # only not-used-so-far position becomes a candidate \n",
        "\n",
        "        flag = True\n",
        "        for j in range(len(board)): #  0 ~ board's max idx\n",
        "\n",
        "          if (j + 1) == abs(i - board[-1-j]): # to be not on the same diagonal with any of previously obsessed positions\n",
        "            flag = False\n",
        "\n",
        "        if flag == True: # this means no coliision occurred.\n",
        "          dfs(possiblePos, board + [i], n) # go deeper\n",
        "\n",
        "  dfs([i for i in range(n)], [], n) # the first function call\n",
        "  return res\n",
        "\n",
        "\n",
        "solveNQueens(n)"
      ],
      "metadata": {
        "id": "R_CV6YdcXyAJ"
      },
      "execution_count": null,
      "outputs": []
    },
    {
      "cell_type": "markdown",
      "source": [
        "I think I'm quite good at memory efficient solutions - 25 / 100 -> 40 / 90"
      ],
      "metadata": {
        "id": "bZOoFBSRXykh"
      }
    },
    {
      "cell_type": "code",
      "source": [
        "n = 1\n",
        "from typing import List\n",
        "\n",
        "class Solution:\n",
        "    def solveNQueens(self, n: int) -> List[List[str]]:\n",
        "\n",
        "        res = []\n",
        "        def dfs(possiblePos, board, n):\n",
        "\n",
        "          if n == len(board): \n",
        "            res.append(['.' * i + 'Q' + '.' * (n - 1 - i) for i in board]) # modified to not use user-defined function\n",
        "            return\n",
        "\n",
        "          for i in possiblePos:\n",
        "            if i not in board:\n",
        "\n",
        "              flag = True\n",
        "              for j in range(len(board)):\n",
        "\n",
        "                if (j + 1) == abs(i - board[-1-j]):\n",
        "                  flag = False\n",
        "                  break # added\n",
        "\n",
        "              if flag == True:\n",
        "                dfs(possiblePos, board + [i], n)\n",
        "\n",
        "        dfs([i for i in range(n)], [], n)\n",
        "        return res\n",
        "\n",
        "Solution().solveNQueens(n)"
      ],
      "metadata": {
        "id": "TCjDRs2kVxdy",
        "colab": {
          "base_uri": "https://localhost:8080/"
        },
        "outputId": "268c2af9-63b2-419a-fda0-2db0c0f6cd73"
      },
      "execution_count": null,
      "outputs": [
        {
          "output_type": "execute_result",
          "data": {
            "text/plain": [
              "[['Q']]"
            ]
          },
          "metadata": {},
          "execution_count": 51
        }
      ]
    },
    {
      "cell_type": "markdown",
      "source": [
        "Almost the same to my solution but the best-scored solution in [LeetCode discussion](https://leetcode.com/problems/n-queens/discuss/19810/Fast-short-and-easy-to-understand-python-solution-11-lines-76ms)"
      ],
      "metadata": {
        "id": "XZw5qUHQg3YF"
      }
    },
    {
      "cell_type": "code",
      "source": [
        "class Solution:\n",
        "    def solveNQueens(self, n):\n",
        "\n",
        "        res = []\n",
        "        def dfs(queens, ddiff, ssum):\n",
        "            p = len(queens)\n",
        "\n",
        "            if p == n:\n",
        "                queens = ['.' * i + 'Q' + '.' * (n - 1 - i) for i in queens]\n",
        "                res.append(queens)\n",
        "                return\n",
        "\n",
        "\n",
        "            for q in range(n):\n",
        "\n",
        "                # shortened version of my conditions\n",
        "                if q in queens or p - q in ddiff or p + q in ssum: continue\n",
        "                dfs(queens + [q],\n",
        "                    ddiff + [p - q],\n",
        "                    ssum + [p + q])\n",
        "        dfs([], [], [])\n",
        "        return res"
      ],
      "metadata": {
        "id": "2HC_tXy8Vxml"
      },
      "execution_count": null,
      "outputs": []
    }
  ]
}